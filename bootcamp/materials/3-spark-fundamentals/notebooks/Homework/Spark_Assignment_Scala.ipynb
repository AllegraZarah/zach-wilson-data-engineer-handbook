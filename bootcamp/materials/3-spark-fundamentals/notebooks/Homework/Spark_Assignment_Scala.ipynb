{
 "cells": [
  {
   "cell_type": "code",
   "execution_count": 1,
   "id": "8f1ecb6f-a918-4a67-9f56-9bd74a57c6f4",
   "metadata": {},
   "outputs": [
    {
     "data": {
      "text/plain": [
       "Intitializing Scala interpreter ..."
      ]
     },
     "metadata": {},
     "output_type": "display_data"
    },
    {
     "data": {
      "text/plain": [
       "Spark Web UI available at http://477c801eb60a:4041\n",
       "SparkContext available as 'sc' (version = 3.5.1, master = local[*], app id = local-1736158604849)\n",
       "SparkSession available as 'spark'\n"
      ]
     },
     "metadata": {},
     "output_type": "display_data"
    },
    {
     "data": {
      "text/plain": [
       "import org.apache.spark.sql.SparkSession\n",
       "import org.apache.spark.sql.Dataset\n",
       "import org.apache.spark.sql.functions._\n",
       "import org.apache.spark.sql.functions.{broadcast, split, lit}\n",
       "sparkSession: org.apache.spark.sql.SparkSession = org.apache.spark.sql.SparkSession@1ba59706\n"
      ]
     },
     "execution_count": 1,
     "metadata": {},
     "output_type": "execute_result"
    }
   ],
   "source": [
    "import org.apache.spark.sql.SparkSession\n",
    "import org.apache.spark.sql.Dataset\n",
    "import org.apache.spark.sql.functions._\n",
    "import org.apache.spark.sql.functions.{broadcast, split, lit}\n",
    "\n",
    "// Initialize a Spark Session\n",
    "val sparkSession = SparkSession.builder.appName(\"Assignment3\").getOrCreate()"
   ]
  },
  {
   "cell_type": "code",
   "execution_count": 2,
   "id": "a0dbc5bc-6431-4a32-91f0-5ce8a7ca2029",
   "metadata": {},
   "outputs": [],
   "source": [
    "// Task 1: Disable automatic broadcast join\n",
    "\n",
    "sparkSession.conf.set(\"spark.sql.autoBroadcastJoinThreshold\", \"-1\")"
   ]
  },
  {
   "cell_type": "code",
   "execution_count": 3,
   "id": "0360ca0e-93ad-47f4-bb40-3512ffe6cd20",
   "metadata": {},
   "outputs": [
    {
     "data": {
      "text/plain": [
       "defined class Matches\n",
       "defined class MatchDetails\n",
       "defined class Maps\n",
       "defined class Medals\n",
       "defined class MedalsMatchesPlayers\n"
      ]
     },
     "execution_count": 3,
     "metadata": {},
     "output_type": "execute_result"
    }
   ],
   "source": [
    "// Task 2: Explicitly Broadcast Join medals and maps\n",
    "// Define required case classes that represent schemas for the data\n",
    "\n",
    "case class Matches (\n",
    "    match_id: Option[String],\n",
    "    mapid: String,\n",
    "    is_team_game: Boolean,\n",
    "    playlist_id: String,\n",
    "    game_variant_id: String,\n",
    "    is_match_over: Boolean,\n",
    "    completion_date: String,\n",
    "    match_duration: String,\n",
    "    game_mode: String,\n",
    "    map_variant_id: String\n",
    ")\n",
    "\n",
    "case class MatchDetails (\n",
    "    match_id: Option[String],\n",
    "    player_gamertag: String,\n",
    "    previous_spartan_rank: Integer,\n",
    "    spartan_rank: Integer,\n",
    "    previous_total_xp: Integer,\n",
    "    total_xp: Integer,\n",
    "    previous_csr_tier: Integer,\n",
    "    previous_csr_designation: Integer,\n",
    "    previous_csr: Integer,\n",
    "    previous_csr_percent_to_next_tier: Integer,\n",
    "    previous_csr_rank: Integer,\n",
    "    current_csr_tier: Integer,\n",
    "    current_csr_designation: Integer,\n",
    "    current_csr: Integer,\n",
    "    current_csr_percent_to_next_tier: Integer,\n",
    "    current_csr_rank: Integer,\n",
    "    player_rank_on_team: Integer,\n",
    "    player_finished: Boolean,\n",
    "    player_average_life: String,\n",
    "    player_total_kills: Integer,\n",
    "    player_total_headshots: Integer,\n",
    "    player_total_weapon_damage: Double,\n",
    "    player_total_shots_landed: Double,\n",
    "    player_total_melee_kills: Double,\n",
    "    player_total_melee_damage: Double,\n",
    "    player_total_assassinations: Double,\n",
    "    player_total_ground_pound_kills: Double,\n",
    "    player_total_shoulder_bash_kills: Double,\n",
    "    player_total_grenade_damage: Double,\n",
    "    player_total_power_weapon_damage: Double,\n",
    "    player_total_power_weapon_grabs: Double,\n",
    "    player_total_deaths: Double,\n",
    "    player_total_assists: Double,\n",
    "    player_total_grenade_kills: Double,\n",
    "    did_win: Double,\n",
    "    team_id: Double\n",
    ")\n",
    "\n",
    "case class Maps (\n",
    "    mapid: Option[String],\n",
    "    name: String,\n",
    "    description: String\n",
    ")\n",
    "\n",
    "case class Medals (\n",
    "    medal_id: Option[Long], // Updated to Long\n",
    "    sprite_uri: String,\n",
    "    sprite_left: Integer,\n",
    "    sprite_top: Integer,\n",
    "    sprite_sheet_width: Integer,\n",
    "    sprite_sheet_height: Integer,\n",
    "    sprite_width: Integer,\n",
    "    sprite_height: Integer,\n",
    "    classification: String,\n",
    "    description: String,\n",
    "    name: String,\n",
    "    difficulty: Integer\n",
    ")\n",
    "\n",
    "case class MedalsMatchesPlayers (\n",
    "    match_id: Option[String],\n",
    "    player_gamertag: String,\n",
    "    medal_id: Long,\n",
    "    count: Integer\n",
    ")"
   ]
  },
  {
   "cell_type": "code",
   "execution_count": 4,
   "id": "39fd5bb4-4aa9-4e15-b146-139f00a4b84e",
   "metadata": {},
   "outputs": [
    {
     "data": {
      "text/plain": [
       "matches: org.apache.spark.sql.Dataset[Matches] = [match_id: string, mapid: string ... 8 more fields]\n"
      ]
     },
     "execution_count": 4,
     "metadata": {},
     "output_type": "execute_result"
    }
   ],
   "source": [
    "// Read all required .csv files into datasets\n",
    "\n",
    "val matches: Dataset[Matches] = sparkSession.read.option(\"header\", \"true\")\n",
    "                                .option(\"inferSchema\", \"true\")\n",
    "                                .csv(\"/home/iceberg/data/matches.csv\")\n",
    "                                .as[Matches]\n",
    "\n",
    "//matches.show(2)"
   ]
  },
  {
   "cell_type": "code",
   "execution_count": 5,
   "id": "01185dde-a718-427c-89b9-09116ac98f1a",
   "metadata": {},
   "outputs": [
    {
     "data": {
      "text/plain": [
       "matchDetails: org.apache.spark.sql.Dataset[MatchDetails] = [match_id: string, player_gamertag: string ... 34 more fields]\n"
      ]
     },
     "execution_count": 5,
     "metadata": {},
     "output_type": "execute_result"
    }
   ],
   "source": [
    "val matchDetails: Dataset[MatchDetails] = sparkSession.read.option(\"header\", \"true\")\n",
    "                                .option(\"inferSchema\", \"true\")\n",
    "                                .csv(\"/home/iceberg/data/match_details.csv\")\n",
    "                                .as[MatchDetails]\n",
    "\n",
    "//matchDetails.show(2)"
   ]
  },
  {
   "cell_type": "code",
   "execution_count": 6,
   "id": "414e9439-c26d-4506-9768-cd0e5f873226",
   "metadata": {},
   "outputs": [
    {
     "data": {
      "text/plain": [
       "maps: org.apache.spark.sql.Dataset[Maps] = [mapid: string, name: string ... 1 more field]\n"
      ]
     },
     "execution_count": 6,
     "metadata": {},
     "output_type": "execute_result"
    }
   ],
   "source": [
    "val maps: Dataset[Maps] = sparkSession.read.option(\"header\", \"true\")\n",
    "                                .option(\"inferSchema\", \"true\")\n",
    "                                .csv(\"/home/iceberg/data/maps.csv\")\n",
    "                                .as[Maps]\n",
    "//maps.show(2)"
   ]
  },
  {
   "cell_type": "code",
   "execution_count": 7,
   "id": "b1da3319-03b1-4b85-a3c2-ee818eba5ffe",
   "metadata": {},
   "outputs": [
    {
     "data": {
      "text/plain": [
       "medals: org.apache.spark.sql.Dataset[Medals] = [medal_id: bigint, sprite_uri: string ... 10 more fields]\n"
      ]
     },
     "execution_count": 7,
     "metadata": {},
     "output_type": "execute_result"
    }
   ],
   "source": [
    "val medals: Dataset[Medals] = sparkSession.read.option(\"header\", \"true\")\n",
    "                                .option(\"inferSchema\", \"true\")\n",
    "                                .csv(\"/home/iceberg/data/medals.csv\")\n",
    "                                .as[Medals]\n",
    "//medals.show(2)"
   ]
  },
  {
   "cell_type": "code",
   "execution_count": 8,
   "id": "920774a2-e5a6-472c-84be-0404d195aae2",
   "metadata": {},
   "outputs": [
    {
     "data": {
      "text/plain": [
       "medalsMatchesPlayers: org.apache.spark.sql.Dataset[MedalsMatchesPlayers] = [match_id: string, player_gamertag: string ... 2 more fields]\n"
      ]
     },
     "execution_count": 8,
     "metadata": {},
     "output_type": "execute_result"
    }
   ],
   "source": [
    "val medalsMatchesPlayers: Dataset[MedalsMatchesPlayers] = sparkSession.read.option(\"header\", \"true\")\n",
    "                                .option(\"inferSchema\", \"true\")\n",
    "                                .csv(\"/home/iceberg/data/medals_matches_players.csv\")\n",
    "                                .as[MedalsMatchesPlayers]\n",
    "//medalsMatchesPlayers.show(2)                            "
   ]
  },
  {
   "cell_type": "code",
   "execution_count": 9,
   "id": "a6c66758-6cea-4cd9-ae7a-5394889b3000",
   "metadata": {},
   "outputs": [],
   "source": [
    "// Create Temporary Views for the required datasets\n",
    "\n",
    "matches.createOrReplaceTempView(\"matchesView\")\n",
    "\n",
    "matchDetails.createOrReplaceTempView(\"matchDetailsView\")\n",
    "\n",
    "maps.createOrReplaceTempView(\"mapsView\")\n",
    "\n",
    "medalsMatchesPlayers.createOrReplaceTempView(\"medalsMatchesPlayersView\")\n",
    "\n",
    "medals.createOrReplaceTempView(\"medalsView\")"
   ]
  },
  {
   "cell_type": "code",
   "execution_count": 10,
   "id": "02c792ec-86bb-4d30-9578-9c641b532f86",
   "metadata": {},
   "outputs": [
    {
     "name": "stdout",
     "output_type": "stream",
     "text": [
      "+---------+----------+--------------------+--------------------+---------------------+\n",
      "| medal_id|medal_name|            match_id|               mapid|player_gamertag_array|\n",
      "+---------+----------+--------------------+--------------------+---------------------+\n",
      "|121048710|   Rampage|073a5745-339b-4f7...|c74c9d0f-f206-11e...|              [Lanqe]|\n",
      "|121048710|   Rampage|143a653a-27f6-4d2...|c74c9d0f-f206-11e...|     [False EnvisioN]|\n",
      "|121048710|   Rampage|259119e2-e79c-443...|c7805740-f206-11e...|     [Lvl 61 Scyther]|\n",
      "|121048710|   Rampage|3453a66d-6a56-434...|cebd854f-f206-11e...|    [BiscuitAnanas31]|\n",
      "|121048710|   Rampage|35e30ec5-7e71-43c...|c7b7baf0-f206-11e...|        [XCornholeoX]|\n",
      "+---------+----------+--------------------+--------------------+---------------------+\n",
      "only showing top 5 rows\n",
      "\n"
     ]
    },
    {
     "data": {
      "text/plain": [
       "matchesMedalMapsAgg: org.apache.spark.sql.DataFrame = [medal_id: bigint, medal_name: string ... 3 more fields]\n"
      ]
     },
     "execution_count": 10,
     "metadata": {},
     "output_type": "execute_result"
    }
   ],
   "source": [
    "// Create the long table (medals) using sql\n",
    "\n",
    "val matchesMedalMapsAgg = sparkSession.sql(\"\"\"\n",
    "                                            SELECT mmp.medal_id,\n",
    "                                                    me.name medal_name,\n",
    "                                                    mmp.match_id,\n",
    "                                                    ma.mapid,\n",
    "                                                    COLLECT_LIST(DISTINCT mmp.player_gamertag) as player_gamertag_array\n",
    "                                                    \n",
    "                                            FROM medalsMatchesPlayersView mmp\n",
    "                                            \n",
    "                                            JOIN matchesView ma\n",
    "                                            ON mmp.match_id = ma.match_id\n",
    "                                            \n",
    "                                            JOIN medalsView me\n",
    "                                            ON mmp.medal_id = me.medal_id\n",
    "                                        \n",
    "                                            GROUP BY 1,2,3,4\n",
    "                                        \"\"\") //.cache()\n",
    "matchesMedalMapsAgg.show(5)"
   ]
  },
  {
   "cell_type": "code",
   "execution_count": 11,
   "id": "207da342-1b30-450d-a8d3-76c6127a89a1",
   "metadata": {
    "scrolled": true
   },
   "outputs": [
    {
     "name": "stdout",
     "output_type": "stream",
     "text": [
      "+---------+----------+--------------------+--------------------+---------------------+--------+--------------------+\n",
      "| medal_id|medal_name|            match_id|               mapid|player_gamertag_array|map_name|     map_description|\n",
      "+---------+----------+--------------------+--------------------+---------------------+--------+--------------------+\n",
      "|121048710|   Rampage|073a5745-339b-4f7...|c74c9d0f-f206-11e...|              [Lanqe]|  Alpine|These vistas are ...|\n",
      "|121048710|   Rampage|143a653a-27f6-4d2...|c74c9d0f-f206-11e...|     [False EnvisioN]|  Alpine|These vistas are ...|\n",
      "|121048710|   Rampage|259119e2-e79c-443...|c7805740-f206-11e...|     [Lvl 61 Scyther]| Glacier|Each of Halo's mi...|\n",
      "|121048710|   Rampage|3453a66d-6a56-434...|cebd854f-f206-11e...|    [BiscuitAnanas31]|Coliseum|Forerunner Warrio...|\n",
      "|121048710|   Rampage|35e30ec5-7e71-43c...|c7b7baf0-f206-11e...|        [XCornholeoX]|Parallax|The Orion Arm of ...|\n",
      "+---------+----------+--------------------+--------------------+---------------------+--------+--------------------+\n",
      "only showing top 5 rows\n",
      "\n"
     ]
    },
    {
     "data": {
      "text/plain": [
       "medalsMaps: org.apache.spark.sql.DataFrame = [medal_id: bigint, medal_name: string ... 5 more fields]\n"
      ]
     },
     "execution_count": 11,
     "metadata": {},
     "output_type": "execute_result"
    }
   ],
   "source": [
    "// Explicitly broadcast join Medals & Maps (Below is a Dataframe. It doesn't conform to a case class)\n",
    "\n",
    "val medalsMaps = matchesMedalMapsAgg.as(\"m\")\n",
    "                    .join(broadcast(maps).as(\"mp\"), $\"m.mapid\" === $\"mp.mapid\")\n",
    "                    .select($\"m.*\", $\"mp.name\".as(\"map_name\"), $\"mp.description\".as(\"map_description\"))\n",
    "\n",
    "medalsMaps.show(5)"
   ]
  },
  {
   "cell_type": "code",
   "execution_count": 12,
   "id": "16f77ade-9bba-4647-8562-fef30b64776b",
   "metadata": {},
   "outputs": [
    {
     "data": {
      "text/plain": [
       "bucketedMatchesDDL: String =\n",
       "\"\n",
       "                            CREATE TABLE IF NOT EXISTS bootcamp.matches_bucketed (\n",
       "                                match_id STRING,\n",
       "                                is_team_game BOOLEAN,\n",
       "                                playlist_id STRING,\n",
       "                                mapid STRING\n",
       "                            )\n",
       "                            USING iceberg\n",
       "                            PARTITIONED BY (bucket(16, match_id));\n",
       "                            \"\n",
       "bucketedMatchDetailsDDL: String =\n",
       "\"\n",
       "                                CREATE TABLE IF NOT EXISTS bootcamp.match_details_bucketed (\n",
       "                                    match_id STRING,\n",
       "                                    player_gamertag STRING,\n",
       "                                    player_total_kills INTEGER,\n",
       "        ...\n"
      ]
     },
     "execution_count": 12,
     "metadata": {},
     "output_type": "execute_result"
    }
   ],
   "source": [
    "// Task 3: Bucket join match_details, matches, and medal_matches_players on match_id with 16 buckets\n",
    "\n",
    "// Create DDL for bucketed tables\n",
    "\n",
    "// Matches\n",
    "sparkSession.sql(\"\"\"DROP TABLE IF EXISTS bootcamp.matches_bucketed\"\"\")\n",
    "\n",
    "val bucketedMatchesDDL = \"\"\"\n",
    "                            CREATE TABLE IF NOT EXISTS bootcamp.matches_bucketed (\n",
    "                                match_id STRING,\n",
    "                                is_team_game BOOLEAN,\n",
    "                                playlist_id STRING,\n",
    "                                mapid STRING\n",
    "                            )\n",
    "                            USING iceberg\n",
    "                            PARTITIONED BY (bucket(16, match_id));\n",
    "                            \"\"\"\n",
    "sparkSession.sql(bucketedMatchesDDL)\n",
    "\n",
    "\n",
    "\n",
    "// Match Details\n",
    "sparkSession.sql(\"\"\"DROP TABLE IF EXISTS bootcamp.match_details_bucketed\"\"\")\n",
    "\n",
    "val bucketedMatchDetailsDDL = \"\"\"\n",
    "                                CREATE TABLE IF NOT EXISTS bootcamp.match_details_bucketed (\n",
    "                                    match_id STRING,\n",
    "                                    player_gamertag STRING,\n",
    "                                    player_total_kills INTEGER,\n",
    "                                    player_total_deaths INTEGER\n",
    "                                )\n",
    "                                USING iceberg\n",
    "                                PARTITIONED BY (bucket(16, match_id));\n",
    "                                \"\"\"\n",
    "sparkSession.sql(bucketedMatchDetailsDDL)\n",
    "\n",
    "\n",
    "\n",
    "// Medals Matches Players\n",
    "sparkSession.sql(\"\"\"DROP TABLE IF EXISTS bootcamp.medal_matches_players_bucketed\"\"\")\n",
    "\n",
    "val bucketedMedalMatchesPlayersDDL = \"\"\"\n",
    "                                        CREATE TABLE IF NOT EXISTS bootcamp.medal_matches_players_bucketed (\n",
    "                                            match_id STRING,\n",
    "                                            player_gamertag STRING,\n",
    "                                            medal_id BIGINT\n",
    "                                        )\n",
    "                                        USING iceberg\n",
    "                                        PARTITIONED BY (bucket(16, match_id));\n",
    "                                        \"\"\"\n",
    "sparkSession.sql(bucketedMedalMatchesPlayersDDL)"
   ]
  },
  {
   "cell_type": "code",
   "execution_count": 13,
   "id": "4e042897-4d60-49ab-926f-ac47c1d1eb4a",
   "metadata": {},
   "outputs": [],
   "source": [
    "// Write data from the above datasets to the corresponding bucketed tables\n",
    "\n",
    "// Matches\n",
    "matches.select($\"match_id\", $\"is_team_game\", $\"playlist_id\", $\"mapid\")\n",
    "        .write.mode(\"append\")\n",
    "        .bucketBy(16, \"match_id\")\n",
    "        .saveAsTable(\"bootcamp.matches_bucketed\")"
   ]
  },
  {
   "cell_type": "code",
   "execution_count": 14,
   "id": "648935b9-001c-484b-b0a8-b15e389c142c",
   "metadata": {},
   "outputs": [],
   "source": [
    "// Match Details\n",
    "matchDetails.select($\"match_id\", $\"player_gamertag\", $\"player_total_kills\", $\"player_total_deaths\")\n",
    "            .write.mode(\"append\")\n",
    "            .bucketBy(16, \"match_id\")\n",
    "            .saveAsTable(\"bootcamp.match_details_bucketed\")"
   ]
  },
  {
   "cell_type": "code",
   "execution_count": 15,
   "id": "dce1f2e2-bfcb-4fe9-a1e2-4a13240f0716",
   "metadata": {},
   "outputs": [],
   "source": [
    "// Medals Matches Players\n",
    "medalsMatchesPlayers.select($\"match_id\", $\"player_gamertag\", $\"medal_id\")\n",
    "                    .write.mode(\"append\")\n",
    "                    .bucketBy(16, \"match_id\")\n",
    "                    .saveAsTable(\"bootcamp.medal_matches_players_bucketed\")"
   ]
  },
  {
   "cell_type": "code",
   "execution_count": 16,
   "id": "a516b39c-07cc-40a6-a5e8-3a0a0c3ebf08",
   "metadata": {},
   "outputs": [
    {
     "name": "stdout",
     "output_type": "stream",
     "text": [
      "+--------------------+---------------+----------+\n",
      "|            match_id|player_gamertag|  medal_id|\n",
      "+--------------------+---------------+----------+\n",
      "|27d7c16b-b780-4f8...|       EcZachly| 824733727|\n",
      "|27d7c16b-b780-4f8...|       EcZachly|3261908037|\n",
      "|27d7c16b-b780-4f8...|       EcZachly|2078758684|\n",
      "|27d7c16b-b780-4f8...|       EcZachly|1573153198|\n",
      "|27d7c16b-b780-4f8...|       EcZachly|2782465081|\n",
      "+--------------------+---------------+----------+\n",
      "only showing top 5 rows\n",
      "\n"
     ]
    },
    {
     "data": {
      "text/plain": [
       "bucketedTest: org.apache.spark.sql.DataFrame = [match_id: string, player_gamertag: string ... 1 more field]\n"
      ]
     },
     "execution_count": 16,
     "metadata": {},
     "output_type": "execute_result"
    }
   ],
   "source": [
    "val bucketedTest = sparkSession.sql(\"\"\"\n",
    "                                                SELECT *\n",
    "                                                       \n",
    "                                                FROM bootcamp.medal_matches_players_bucketed mdb\n",
    "                                                \"\"\")\n",
    "\n",
    "bucketedTest.show(5)"
   ]
  },
  {
   "cell_type": "code",
   "execution_count": 17,
   "id": "c4be2e25-fda7-416a-9251-1b45586f81dc",
   "metadata": {},
   "outputs": [
    {
     "name": "stdout",
     "output_type": "stream",
     "text": [
      "+--------------------+--------------------+--------------------+---------------+------------------+-------------------+----------+\n",
      "|            match_id|         playlist_id|               mapid|player_gamertag|player_total_kills|player_total_deaths|  medal_id|\n",
      "+--------------------+--------------------+--------------------+---------------+------------------+-------------------+----------+\n",
      "|00169217-cca6-4b4...|2323b76a-db98-4e0...|cc040aa1-f206-11e...|  King Terror V|                14|                  7|3261908037|\n",
      "|00169217-cca6-4b4...|2323b76a-db98-4e0...|cc040aa1-f206-11e...|  King Terror V|                14|                  7|3001183151|\n",
      "|00169217-cca6-4b4...|2323b76a-db98-4e0...|cc040aa1-f206-11e...|  King Terror V|                14|                  7| 824733727|\n",
      "|00169217-cca6-4b4...|2323b76a-db98-4e0...|cc040aa1-f206-11e...|  King Terror V|                14|                  7|2078758684|\n",
      "|00169217-cca6-4b4...|2323b76a-db98-4e0...|cc040aa1-f206-11e...|  King Terror V|                14|                  7|2430242797|\n",
      "+--------------------+--------------------+--------------------+---------------+------------------+-------------------+----------+\n",
      "only showing top 5 rows\n",
      "\n"
     ]
    },
    {
     "data": {
      "text/plain": [
       "bucketedMatchesMedals: org.apache.spark.sql.DataFrame = [match_id: string, playlist_id: string ... 5 more fields]\n"
      ]
     },
     "execution_count": 17,
     "metadata": {},
     "output_type": "execute_result"
    }
   ],
   "source": [
    "// Bucket Join match_details, matches, and medal_matches_players\n",
    "\n",
    "val bucketedMatchesMedals = sparkSession.sql(\"\"\"\n",
    "                                                SELECT mb.match_id,\n",
    "                                                        mb.playlist_id,\n",
    "                                                        mb.mapid,\n",
    "                                                        mdb.player_gamertag,\n",
    "                                                        mdb.player_total_kills,\n",
    "                                                        mdb.player_total_deaths,\n",
    "                                                        mmpb.medal_id\n",
    "                                                       \n",
    "                                                FROM bootcamp.matches_bucketed mb \n",
    "                                                            \n",
    "                                                JOIN bootcamp.match_details_bucketed mdb \n",
    "                                                ON mb.match_id = mdb.match_id\n",
    "                                                            \n",
    "                                                JOIN bootcamp.medal_matches_players_bucketed mmpb\n",
    "                                                ON mb.match_id = mmpb.match_id\n",
    "                                \n",
    "                                                WHERE mdb.player_gamertag IS NOT NULL\n",
    "                                                \"\"\")\n",
    "\n",
    "bucketedMatchesMedals.show(5)"
   ]
  },
  {
   "cell_type": "code",
   "execution_count": 18,
   "id": "2949cfd1-a9c0-43a1-acaf-6f3869ddd237",
   "metadata": {},
   "outputs": [
    {
     "name": "stdout",
     "output_type": "stream",
     "text": [
      "== Physical Plan ==\n",
      "AdaptiveSparkPlan isFinalPlan=false\n",
      "+- Project [match_id#17, playlist_id#20, mapid#18, player_gamertag#76, player_total_kills#94, player_total_deaths#106, medal_id#335L]\n",
      "   +- SortMergeJoin [match_id#17], [match_id#333], Inner\n",
      "      :- Project [match_id#17, mapid#18, playlist_id#20, player_gamertag#76, player_total_kills#94, player_total_deaths#106]\n",
      "      :  +- SortMergeJoin [match_id#17], [match_id#75], Inner\n",
      "      :     :- Sort [match_id#17 ASC NULLS FIRST], false, 0\n",
      "      :     :  +- Exchange hashpartitioning(match_id#17, 200), ENSURE_REQUIREMENTS, [plan_id=1492]\n",
      "      :     :     +- Filter isnotnull(match_id#17)\n",
      "      :     :        +- FileScan csv [match_id#17,mapid#18,playlist_id#20] Batched: false, DataFilters: [isnotnull(match_id#17)], Format: CSV, Location: InMemoryFileIndex(1 paths)[file:/home/iceberg/data/matches.csv], PartitionFilters: [], PushedFilters: [IsNotNull(match_id)], ReadSchema: struct<match_id:string,mapid:string,playlist_id:string>\n",
      "      :     +- Sort [match_id#75 ASC NULLS FIRST], false, 0\n",
      "      :        +- Exchange hashpartitioning(match_id#75, 200), ENSURE_REQUIREMENTS, [plan_id=1493]\n",
      "      :           +- Filter (isnotnull(player_gamertag#76) AND isnotnull(match_id#75))\n",
      "      :              +- FileScan csv [match_id#75,player_gamertag#76,player_total_kills#94,player_total_deaths#106] Batched: false, DataFilters: [isnotnull(player_gamertag#76), isnotnull(match_id#75)], Format: CSV, Location: InMemoryFileIndex(1 paths)[file:/home/iceberg/data/match_details.csv], PartitionFilters: [], PushedFilters: [IsNotNull(player_gamertag), IsNotNull(match_id)], ReadSchema: struct<match_id:string,player_gamertag:string,player_total_kills:int,player_total_deaths:int>\n",
      "      +- Sort [match_id#333 ASC NULLS FIRST], false, 0\n",
      "         +- Exchange hashpartitioning(match_id#333, 200), ENSURE_REQUIREMENTS, [plan_id=1500]\n",
      "            +- Filter isnotnull(match_id#333)\n",
      "               +- FileScan csv [match_id#333,medal_id#335L] Batched: false, DataFilters: [isnotnull(match_id#333)], Format: CSV, Location: InMemoryFileIndex(1 paths)[file:/home/iceberg/data/medals_matches_players.csv], PartitionFilters: [], PushedFilters: [IsNotNull(match_id)], ReadSchema: struct<match_id:string,medal_id:bigint>\n",
      "\n",
      "\n"
     ]
    }
   ],
   "source": [
    "// Join match_details, matches, and medal_matches_players temporary views (To see the difference between the one bucket joined)\n",
    "\n",
    "sparkSession.sql(\"\"\"\n",
    "                SELECT mb.match_id,\n",
    "                        mb.playlist_id,\n",
    "                        mb.mapid,\n",
    "                        mdb.player_gamertag,\n",
    "                        mdb.player_total_kills,\n",
    "                        mdb.player_total_deaths,\n",
    "                        mmpb.medal_id\n",
    "                \n",
    "                FROM matchesView mb\n",
    "                \n",
    "                JOIN matchDetailsView mdb \n",
    "                ON mb.match_id = mdb.match_id\n",
    "                \n",
    "                JOIN medalsMatchesPlayersView mmpb\n",
    "                ON mb.match_id = mmpb.match_id\n",
    "\n",
    "                WHERE mdb.player_gamertag IS NOT NULL\n",
    "                -- AND mb.completion_date = DATE('2016-01-01') \n",
    "                \"\"\").explain()"
   ]
  },
  {
   "cell_type": "code",
   "execution_count": 19,
   "id": "db2d4e7f-fd71-43bb-a2d4-b2b8efe49028",
   "metadata": {},
   "outputs": [],
   "source": [
    "// Task 4: Aggregate the joined data frame to figure out questions like:\n",
    "\n",
    "// Saved the bucketed table as a temporary view\n",
    "\n",
    "bucketedMatchesMedals.createOrReplaceTempView(\"bucketed_matches_medals\")"
   ]
  },
  {
   "cell_type": "code",
   "execution_count": 38,
   "id": "60451248-9581-4443-ae17-b0075ef32b16",
   "metadata": {},
   "outputs": [
    {
     "name": "stdout",
     "output_type": "stream",
     "text": [
      "+---------------+-------------+\n",
      "|player_gamertag|average_kills|\n",
      "+---------------+-------------+\n",
      "|   gimpinator14|        109.0|\n",
      "+---------------+-------------+\n",
      "only showing top 1 row\n",
      "\n"
     ]
    },
    {
     "data": {
      "text/plain": [
       "playersAvgKills: org.apache.spark.sql.DataFrame = [player_gamertag: string, average_kills: double]\n"
      ]
     },
     "execution_count": 38,
     "metadata": {},
     "output_type": "execute_result"
    }
   ],
   "source": [
    "// I. Which player averages the most kills per game?\n",
    "\n",
    "val playersAvgKills = sparkSession.sql(\"\"\"\n",
    "                                        SELECT player_gamertag, \n",
    "                                               AVG(player_total_kills) average_kills \n",
    "                                        \n",
    "                                        FROM bucketed_matches_medals\n",
    "                                        GROUP BY player_gamertag\n",
    "                                        ORDER BY average_kills DESC\n",
    "                                        \"\"\")\n",
    "\n",
    "playersAvgKills.show(1)"
   ]
  },
  {
   "cell_type": "code",
   "execution_count": 39,
   "id": "6fff7c66-b804-4474-9396-baa1016cdb0f",
   "metadata": {},
   "outputs": [
    {
     "name": "stdout",
     "output_type": "stream",
     "text": [
      "+--------------------+--------------+\n",
      "|         playlist_id|playlist_plays|\n",
      "+--------------------+--------------+\n",
      "|f72e0ef0-7c4a-430...|       1565529|\n",
      "+--------------------+--------------+\n",
      "only showing top 1 row\n",
      "\n"
     ]
    },
    {
     "data": {
      "text/plain": [
       "playlistMostPlayed: org.apache.spark.sql.DataFrame = [playlist_id: string, playlist_plays: bigint]\n"
      ]
     },
     "execution_count": 39,
     "metadata": {},
     "output_type": "execute_result"
    }
   ],
   "source": [
    "// II. Which playlist gets played the most?\n",
    "\n",
    "val playlistMostPlayed = sparkSession.sql(\"\"\"\n",
    "                                        SELECT playlist_id, \n",
    "                                               COUNT(match_id) playlist_plays \n",
    "                                        \n",
    "                                        FROM bucketed_matches_medals\n",
    "                                        GROUP BY playlist_id\n",
    "                                        ORDER BY playlist_plays DESC\n",
    "                                        \"\"\")\n",
    "\n",
    "playlistMostPlayed.show(1)"
   ]
  },
  {
   "cell_type": "code",
   "execution_count": 40,
   "id": "ffd30103-9857-4e6d-97f8-bacca8e221e7",
   "metadata": {},
   "outputs": [
    {
     "name": "stdout",
     "output_type": "stream",
     "text": [
      "+------+---------+\n",
      "|   map|map_plays|\n",
      "+------+---------+\n",
      "|Alpine|  1445545|\n",
      "+------+---------+\n",
      "only showing top 1 row\n",
      "\n"
     ]
    },
    {
     "data": {
      "text/plain": [
       "mapMostPlayed: org.apache.spark.sql.DataFrame = [map: string, map_plays: bigint]\n"
      ]
     },
     "execution_count": 40,
     "metadata": {},
     "output_type": "execute_result"
    }
   ],
   "source": [
    "// III. Which map gets played the most?\n",
    "\n",
    "val mapMostPlayed = sparkSession.sql(\"\"\"\n",
    "                                        SELECT map.name map, \n",
    "                                               COUNT(match.match_id) map_plays \n",
    "                                        \n",
    "                                        FROM bucketed_matches_medals match\n",
    "                                        JOIN mapsView map\n",
    "                                        on match.mapid = map.mapid\n",
    "                                        GROUP BY map.name\n",
    "                                        ORDER BY map_plays DESC\n",
    "                                        \"\"\")\n",
    "\n",
    "mapMostPlayed.show(1)"
   ]
  },
  {
   "cell_type": "code",
   "execution_count": 41,
   "id": "ac8f2970-9b34-4199-a585-8e0a670256ec",
   "metadata": {},
   "outputs": [
    {
     "name": "stdout",
     "output_type": "stream",
     "text": [
      "+------+-------------------+\n",
      "|   map|map_player_killings|\n",
      "+------+-------------------+\n",
      "|Alpine|           17599171|\n",
      "+------+-------------------+\n",
      "only showing top 1 row\n",
      "\n"
     ]
    },
    {
     "data": {
      "text/plain": [
       "mapMostKillingMedals: org.apache.spark.sql.DataFrame = [map: string, map_player_killings: bigint]\n"
      ]
     },
     "execution_count": 41,
     "metadata": {},
     "output_type": "execute_result"
    }
   ],
   "source": [
    "// IV. Which map do players get the most Killing Spree medals on?\n",
    "\n",
    "val mapMostKillingMedals = sparkSession.sql(\"\"\"\n",
    "                                            SELECT map.name map, \n",
    "                                               SUM(match.player_total_kills) map_player_killings \n",
    "                                        \n",
    "                                            FROM bucketed_matches_medals match\n",
    "                                            JOIN mapsView map\n",
    "                                            on match.mapid = map.mapid\n",
    "                                            GROUP BY map.name\n",
    "                                            ORDER BY map_player_killings DESC\n",
    "                                            \"\"\")\n",
    "\n",
    "mapMostKillingMedals.show(1)"
   ]
  },
  {
   "cell_type": "code",
   "execution_count": 42,
   "id": "851bfcc4-52c8-496c-b882-5b7597abc9ec",
   "metadata": {},
   "outputs": [
    {
     "name": "stdout",
     "output_type": "stream",
     "text": [
      "+--------------------+--------------+\n",
      "|         playlist_id|playlist_plays|\n",
      "+--------------------+--------------+\n",
      "|f72e0ef0-7c4a-430...|       1565529|\n",
      "+--------------------+--------------+\n",
      "only showing top 1 row\n",
      "\n"
     ]
    },
    {
     "data": {
      "text/plain": [
       "sortPartitionPlaylistMostPlayed: org.apache.spark.sql.Dataset[org.apache.spark.sql.Row] = [playlist_id: string, playlist_plays: bigint]\n"
      ]
     },
     "execution_count": 42,
     "metadata": {},
     "output_type": "execute_result"
    }
   ],
   "source": [
    "// Task 5: With the aggregated data set, try different .sortWithinPartitions to see which has the smallest data size (hint: playlists and maps are both very low cardinality)\n",
    "// I. playlistMostPlayed\n",
    "\n",
    "val sortPartitionPlaylistMostPlayed = playlistMostPlayed.repartition(col(\"playlist_id\")).sortWithinPartitions(col(\"playlist_plays\").desc)\n",
    "\n",
    "sortPartitionPlaylistMostPlayed.show(1)"
   ]
  },
  {
   "cell_type": "code",
   "execution_count": 43,
   "id": "cc39b5bd-9eb7-4135-867d-bcaab840b5f2",
   "metadata": {},
   "outputs": [
    {
     "name": "stdout",
     "output_type": "stream",
     "text": [
      "+------+---------+\n",
      "|   map|map_plays|\n",
      "+------+---------+\n",
      "|Alpine|  1445545|\n",
      "+------+---------+\n",
      "only showing top 1 row\n",
      "\n"
     ]
    },
    {
     "data": {
      "text/plain": [
       "sortPartitionPMapMostPlayed: org.apache.spark.sql.Dataset[org.apache.spark.sql.Row] = [map: string, map_plays: bigint]\n"
      ]
     },
     "execution_count": 43,
     "metadata": {},
     "output_type": "execute_result"
    }
   ],
   "source": [
    "// II. mapMostPlayed\n",
    "\n",
    "val sortPartitionPMapMostPlayed = mapMostPlayed.repartition(col(\"map\")).sortWithinPartitions(col(\"map_plays\").desc)\n",
    "\n",
    "sortPartitionPMapMostPlayed.show(1)"
   ]
  },
  {
   "cell_type": "code",
   "execution_count": 44,
   "id": "338fbbc0-5bd0-41de-8798-470d998b5484",
   "metadata": {},
   "outputs": [
    {
     "name": "stdout",
     "output_type": "stream",
     "text": [
      "+------+-------------------+\n",
      "|   map|map_player_killings|\n",
      "+------+-------------------+\n",
      "|Alpine|           17599171|\n",
      "+------+-------------------+\n",
      "only showing top 1 row\n",
      "\n"
     ]
    },
    {
     "data": {
      "text/plain": [
       "sortPartitionPMapMostKillingMedals: org.apache.spark.sql.Dataset[org.apache.spark.sql.Row] = [map: string, map_player_killings: bigint]\n"
      ]
     },
     "execution_count": 44,
     "metadata": {},
     "output_type": "execute_result"
    }
   ],
   "source": [
    "// III. mapMostKillingMedals\n",
    "\n",
    "val sortPartitionPMapMostKillingMedals = mapMostKillingMedals.repartition(col(\"map\")).sortWithinPartitions(col(\"map_player_killings\").desc)\n",
    "\n",
    "sortPartitionPMapMostKillingMedals.show(1)"
   ]
  }
 ],
 "metadata": {
  "kernelspec": {
   "display_name": "spylon-kernel",
   "language": "scala",
   "name": "spylon-kernel"
  },
  "language_info": {
   "codemirror_mode": "text/x-scala",
   "file_extension": ".scala",
   "help_links": [
    {
     "text": "MetaKernel Magics",
     "url": "https://metakernel.readthedocs.io/en/latest/source/README.html"
    }
   ],
   "mimetype": "text/x-scala",
   "name": "scala",
   "pygments_lexer": "scala",
   "version": "0.4.1"
  }
 },
 "nbformat": 4,
 "nbformat_minor": 5
}
