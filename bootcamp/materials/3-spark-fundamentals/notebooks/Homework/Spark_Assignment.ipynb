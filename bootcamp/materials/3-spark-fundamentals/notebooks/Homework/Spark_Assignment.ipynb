{
 "cells": [
  {
   "cell_type": "code",
   "execution_count": 1,
   "id": "8f1ecb6f-a918-4a67-9f56-9bd74a57c6f4",
   "metadata": {},
   "outputs": [
    {
     "data": {
      "text/plain": [
       "Intitializing Scala interpreter ..."
      ]
     },
     "metadata": {},
     "output_type": "display_data"
    },
    {
     "data": {
      "text/plain": [
       "Spark Web UI available at http://d389638e15a8:4041\n",
       "SparkContext available as 'sc' (version = 3.5.1, master = local[*], app id = local-1734949959484)\n",
       "SparkSession available as 'spark'\n"
      ]
     },
     "metadata": {},
     "output_type": "display_data"
    },
    {
     "data": {
      "text/plain": [
       "import org.apache.spark.sql.SparkSession\n",
       "import org.apache.spark.sql.Dataset\n",
       "import org.apache.spark.sql.functions._\n",
       "sparkSession: org.apache.spark.sql.SparkSession = org.apache.spark.sql.SparkSession@5d5a2103\n"
      ]
     },
     "execution_count": 1,
     "metadata": {},
     "output_type": "execute_result"
    }
   ],
   "source": [
    "import org.apache.spark.sql.SparkSession\n",
    "import org.apache.spark.sql.Dataset\n",
    "import org.apache.spark.sql.functions._\n",
    "\n",
    "// Initialize a Spark Session\n",
    "val sparkSession = SparkSession.builder.appName(\"Assignment3\").getOrCreate()"
   ]
  },
  {
   "cell_type": "code",
   "execution_count": 2,
   "id": "a0dbc5bc-6431-4a32-91f0-5ce8a7ca2029",
   "metadata": {},
   "outputs": [],
   "source": [
    "// Task 1: Disable automatic broadcast join\n",
    "\n",
    "sparkSession.conf.set(\"spark.sql.autoBroadcastJoinThreshold\", \"-1\")"
   ]
  },
  {
   "cell_type": "code",
   "execution_count": 3,
   "id": "0360ca0e-93ad-47f4-bb40-3512ffe6cd20",
   "metadata": {},
   "outputs": [
    {
     "data": {
      "text/plain": [
       "defined class Matches\n",
       "defined class MatchDetails\n",
       "defined class Maps\n",
       "defined class Medals\n",
       "defined class MedalsMatchesPlayers\n"
      ]
     },
     "execution_count": 3,
     "metadata": {},
     "output_type": "execute_result"
    }
   ],
   "source": [
    "// Task 2: Explicitly Broadcast Join medals and maps\n",
    "// Define required case classes that represent schemas for the data\n",
    "\n",
    "case class Matches (\n",
    "    match_id: Option[String],\n",
    "    mapid: String,\n",
    "    is_team_game: Boolean,\n",
    "    playlist_id: String,\n",
    "    game_variant_id: String,\n",
    "    is_match_over: Boolean,\n",
    "    completion_date: String,\n",
    "    match_duration: String,\n",
    "    game_mode: String,\n",
    "    map_variant_id: String\n",
    ")\n",
    "\n",
    "case class MatchDetails (\n",
    "    match_id: Option[String],\n",
    "    player_gamertag: String,\n",
    "    previous_spartan_rank: Integer,\n",
    "    spartan_rank: Integer,\n",
    "    previous_total_xp: Integer,\n",
    "    total_xp: Integer,\n",
    "    previous_csr_tier: Integer,\n",
    "    previous_csr_designation: Integer,\n",
    "    previous_csr: Integer,\n",
    "    previous_csr_percent_to_next_tier: Integer,\n",
    "    previous_csr_rank: Integer,\n",
    "    current_csr_tier: Integer,\n",
    "    current_csr_designation: Integer,\n",
    "    current_csr: Integer,\n",
    "    current_csr_percent_to_next_tier: Integer,\n",
    "    current_csr_rank: Integer,\n",
    "    player_rank_on_team: Integer,\n",
    "    player_finished: Boolean,\n",
    "    player_average_life: String,\n",
    "    player_total_kills: Integer,\n",
    "    player_total_headshots: Integer,\n",
    "    player_total_weapon_damage: Double,\n",
    "    player_total_shots_landed: Double,\n",
    "    player_total_melee_kills: Double,\n",
    "    player_total_melee_damage: Double,\n",
    "    player_total_assassinations: Double,\n",
    "    player_total_ground_pound_kills: Double,\n",
    "    player_total_shoulder_bash_kills: Double,\n",
    "    player_total_grenade_damage: Double,\n",
    "    player_total_power_weapon_damage: Double,\n",
    "    player_total_power_weapon_grabs: Double,\n",
    "    player_total_deaths: Double,\n",
    "    player_total_assists: Double,\n",
    "    player_total_grenade_kills: Double,\n",
    "    did_win: Double,\n",
    "    team_id: Double\n",
    ")\n",
    "\n",
    "case class Maps (\n",
    "    mapid: Option[String],\n",
    "    name: String,\n",
    "    description: String\n",
    ")\n",
    "\n",
    "case class Medals (\n",
    "    medal_id: Option[Long], // Updated to Long\n",
    "    sprite_uri: String,\n",
    "    sprite_left: Integer,\n",
    "    sprite_top: Integer,\n",
    "    sprite_sheet_width: Integer,\n",
    "    sprite_sheet_height: Integer,\n",
    "    sprite_width: Integer,\n",
    "    sprite_height: Integer,\n",
    "    classification: String,\n",
    "    description: String,\n",
    "    name: String,\n",
    "    difficulty: Integer\n",
    ")\n",
    "\n",
    "case class MedalsMatchesPlayers (\n",
    "    match_id: Option[String],\n",
    "    player_gamertag: String,\n",
    "    medal_id: Long,\n",
    "    count: Integer\n",
    ")"
   ]
  },
  {
   "cell_type": "code",
   "execution_count": 4,
   "id": "39fd5bb4-4aa9-4e15-b146-139f00a4b84e",
   "metadata": {},
   "outputs": [
    {
     "data": {
      "text/plain": [
       "matches: org.apache.spark.sql.Dataset[Matches] = [match_id: string, mapid: string ... 8 more fields]\n"
      ]
     },
     "execution_count": 4,
     "metadata": {},
     "output_type": "execute_result"
    }
   ],
   "source": [
    "// Read all required .csv files into datasets\n",
    "\n",
    "val matches: Dataset[Matches] = sparkSession.read.option(\"header\", \"true\")\n",
    "                                .option(\"inferSchema\", \"true\")\n",
    "                                .csv(\"/home/iceberg/data/matches.csv\")\n",
    "                                .as[Matches]\n",
    "\n",
    "//matches.show(2)"
   ]
  },
  {
   "cell_type": "code",
   "execution_count": 5,
   "id": "01185dde-a718-427c-89b9-09116ac98f1a",
   "metadata": {},
   "outputs": [
    {
     "data": {
      "text/plain": [
       "matchDetails: org.apache.spark.sql.Dataset[MatchDetails] = [match_id: string, player_gamertag: string ... 34 more fields]\n"
      ]
     },
     "execution_count": 5,
     "metadata": {},
     "output_type": "execute_result"
    }
   ],
   "source": [
    "val matchDetails: Dataset[MatchDetails] = sparkSession.read.option(\"header\", \"true\")\n",
    "                                .option(\"inferSchema\", \"true\")\n",
    "                                .csv(\"/home/iceberg/data/match_details.csv\")\n",
    "                                .as[MatchDetails]\n",
    "\n",
    "//matchDetails.show(2)"
   ]
  },
  {
   "cell_type": "code",
   "execution_count": 6,
   "id": "414e9439-c26d-4506-9768-cd0e5f873226",
   "metadata": {},
   "outputs": [
    {
     "data": {
      "text/plain": [
       "maps: org.apache.spark.sql.Dataset[Maps] = [mapid: string, name: string ... 1 more field]\n"
      ]
     },
     "execution_count": 6,
     "metadata": {},
     "output_type": "execute_result"
    }
   ],
   "source": [
    "val maps: Dataset[Maps] = sparkSession.read.option(\"header\", \"true\")\n",
    "                                .option(\"inferSchema\", \"true\")\n",
    "                                .csv(\"/home/iceberg/data/maps.csv\")\n",
    "                                .as[Maps]\n",
    "//maps.show(2)"
   ]
  },
  {
   "cell_type": "code",
   "execution_count": 7,
   "id": "b1da3319-03b1-4b85-a3c2-ee818eba5ffe",
   "metadata": {},
   "outputs": [
    {
     "data": {
      "text/plain": [
       "medals: org.apache.spark.sql.Dataset[Medals] = [medal_id: bigint, sprite_uri: string ... 10 more fields]\n"
      ]
     },
     "execution_count": 7,
     "metadata": {},
     "output_type": "execute_result"
    }
   ],
   "source": [
    "val medals: Dataset[Medals] = sparkSession.read.option(\"header\", \"true\")\n",
    "                                .option(\"inferSchema\", \"true\")\n",
    "                                .csv(\"/home/iceberg/data/medals.csv\")\n",
    "                                .as[Medals]\n",
    "//medals.show(2)"
   ]
  },
  {
   "cell_type": "code",
   "execution_count": 8,
   "id": "920774a2-e5a6-472c-84be-0404d195aae2",
   "metadata": {},
   "outputs": [
    {
     "data": {
      "text/plain": [
       "medalsMatchesPlayers: org.apache.spark.sql.Dataset[MedalsMatchesPlayers] = [match_id: string, player_gamertag: string ... 2 more fields]\n"
      ]
     },
     "execution_count": 8,
     "metadata": {},
     "output_type": "execute_result"
    }
   ],
   "source": [
    "val medalsMatchesPlayers: Dataset[MedalsMatchesPlayers] = sparkSession.read.option(\"header\", \"true\")\n",
    "                                .option(\"inferSchema\", \"true\")\n",
    "                                .csv(\"/home/iceberg/data/medals_matches_players.csv\")\n",
    "                                .as[MedalsMatchesPlayers]\n",
    "//medalsMatchesPlayers.show(2)                            "
   ]
  },
  {
   "cell_type": "code",
   "execution_count": 9,
   "id": "a6c66758-6cea-4cd9-ae7a-5394889b3000",
   "metadata": {},
   "outputs": [],
   "source": [
    "// Create Temporary Views for the required datasets\n",
    "\n",
    "matches.createOrReplaceTempView(\"matchesView\")\n",
    "\n",
    "matchDetails.createOrReplaceTempView(\"matchDetailsView\")\n",
    "\n",
    "maps.createOrReplaceTempView(\"mapsView\")\n",
    "\n",
    "medalsMatchesPlayers.createOrReplaceTempView(\"medalsMatchesPlayersView\")\n",
    "\n",
    "medals.createOrReplaceTempView(\"medalsView\")"
   ]
  },
  {
   "cell_type": "code",
   "execution_count": 10,
   "id": "02c792ec-86bb-4d30-9578-9c641b532f86",
   "metadata": {},
   "outputs": [
    {
     "name": "stdout",
     "output_type": "stream",
     "text": [
      "+---------+----------+--------------------+--------------------+---------------------+\n",
      "| medal_id|medal_name|            match_id|               mapid|player_gamertag_array|\n",
      "+---------+----------+--------------------+--------------------+---------------------+\n",
      "|121048710|   Rampage|073a5745-339b-4f7...|c74c9d0f-f206-11e...|              [Lanqe]|\n",
      "|121048710|   Rampage|143a653a-27f6-4d2...|c74c9d0f-f206-11e...|     [False EnvisioN]|\n",
      "|121048710|   Rampage|259119e2-e79c-443...|c7805740-f206-11e...|     [Lvl 61 Scyther]|\n",
      "|121048710|   Rampage|3453a66d-6a56-434...|cebd854f-f206-11e...|    [BiscuitAnanas31]|\n",
      "|121048710|   Rampage|35e30ec5-7e71-43c...|c7b7baf0-f206-11e...|        [XCornholeoX]|\n",
      "+---------+----------+--------------------+--------------------+---------------------+\n",
      "only showing top 5 rows\n",
      "\n"
     ]
    },
    {
     "data": {
      "text/plain": [
       "matchesMedalMapsAgg: org.apache.spark.sql.DataFrame = [medal_id: bigint, medal_name: string ... 3 more fields]\n"
      ]
     },
     "execution_count": 10,
     "metadata": {},
     "output_type": "execute_result"
    }
   ],
   "source": [
    "// Create the long table (medals) using sql\n",
    "\n",
    "val matchesMedalMapsAgg = sparkSession.sql(f\"\"\"\n",
    "                                            SELECT mmp.medal_id,\n",
    "                                                    me.name medal_name,\n",
    "                                                    mmp.match_id,\n",
    "                                                    ma.mapid,\n",
    "                                                    COLLECT_LIST(DISTINCT mmp.player_gamertag) as player_gamertag_array\n",
    "                                                    \n",
    "                                            FROM medalsMatchesPlayersView mmp\n",
    "                                            \n",
    "                                            JOIN matchesView ma\n",
    "                                            ON mmp.match_id = ma.match_id\n",
    "                                            \n",
    "                                            JOIN medalsView me\n",
    "                                            ON mmp.medal_id = me.medal_id\n",
    "                                        \n",
    "                                            GROUP BY 1,2,3,4\n",
    "                                        \"\"\") //.cache()\n",
    "matchesMedalMapsAgg.show(5)"
   ]
  },
  {
   "cell_type": "code",
   "execution_count": 11,
   "id": "207da342-1b30-450d-a8d3-76c6127a89a1",
   "metadata": {},
   "outputs": [
    {
     "name": "stdout",
     "output_type": "stream",
     "text": [
      "+---------+----------+--------------------+--------------------+---------------------+--------+--------------------+\n",
      "| medal_id|medal_name|            match_id|               mapid|player_gamertag_array|map_name|     map_description|\n",
      "+---------+----------+--------------------+--------------------+---------------------+--------+--------------------+\n",
      "|121048710|   Rampage|073a5745-339b-4f7...|c74c9d0f-f206-11e...|              [Lanqe]|  Alpine|These vistas are ...|\n",
      "|121048710|   Rampage|143a653a-27f6-4d2...|c74c9d0f-f206-11e...|     [False EnvisioN]|  Alpine|These vistas are ...|\n",
      "|121048710|   Rampage|259119e2-e79c-443...|c7805740-f206-11e...|     [Lvl 61 Scyther]| Glacier|Each of Halo's mi...|\n",
      "|121048710|   Rampage|3453a66d-6a56-434...|cebd854f-f206-11e...|    [BiscuitAnanas31]|Coliseum|Forerunner Warrio...|\n",
      "|121048710|   Rampage|35e30ec5-7e71-43c...|c7b7baf0-f206-11e...|        [XCornholeoX]|Parallax|The Orion Arm of ...|\n",
      "+---------+----------+--------------------+--------------------+---------------------+--------+--------------------+\n",
      "only showing top 5 rows\n",
      "\n"
     ]
    },
    {
     "data": {
      "text/plain": [
       "medalsMaps: org.apache.spark.sql.DataFrame = [medal_id: bigint, medal_name: string ... 5 more fields]\n"
      ]
     },
     "execution_count": 11,
     "metadata": {},
     "output_type": "execute_result"
    }
   ],
   "source": [
    "// Explicitly broadcast join Medals & Maps (Below is a Dataframe. It doesn't conform to a case class)\n",
    "\n",
    "val medalsMaps = matchesMedalMapsAgg.as(\"m\")\n",
    "                    .join(broadcast(maps).as(\"mp\"), $\"m.mapid\" === $\"mp.mapid\")\n",
    "                    .select($\"m.*\", $\"mp.name\".as(\"map_name\"), $\"mp.description\".as(\"map_description\"))\n",
    "\n",
    "medalsMaps.show(5)"
   ]
  },
  {
   "cell_type": "code",
   "execution_count": 12,
   "id": "16f77ade-9bba-4647-8562-fef30b64776b",
   "metadata": {},
   "outputs": [
    {
     "data": {
      "text/plain": [
       "bucketedMatchesDDL: String =\n",
       "\"\n",
       "                            CREATE TABLE IF NOT EXISTS bootcamp.matches_bucketed (\n",
       "                                match_id STRING,\n",
       "                                is_team_game BOOLEAN,\n",
       "                                playlist_id STRING,\n",
       "                                completion_date TIMESTAMP\n",
       "                            )\n",
       "                            USING iceberg\n",
       "                            PARTITIONED BY (completion_date, bucket(16, match_id));\n",
       "                            \"\n",
       "bucketedMatchDetailsDDL: String =\n",
       "\"\n",
       "                                CREATE TABLE IF NOT EXISTS bootcamp.match_details_bucketed (\n",
       "                                    match_id STRING,\n",
       "                                    player_gamertag STRING,\n",
       "                                    player...\n"
      ]
     },
     "execution_count": 12,
     "metadata": {},
     "output_type": "execute_result"
    }
   ],
   "source": [
    "// Task 3: Bucket join match_details, matches, and medal_matches_players on match_id with 16 buckets\n",
    "\n",
    "// Create DDL for bucketed tables\n",
    "\n",
    "// Matches\n",
    "sparkSession.sql(\"\"\"DROP TABLE IF EXISTS bootcamp.matches_bucketed\"\"\")\n",
    "\n",
    "val bucketedMatchesDDL = \"\"\"\n",
    "                            CREATE TABLE IF NOT EXISTS bootcamp.matches_bucketed (\n",
    "                                match_id STRING,\n",
    "                                is_team_game BOOLEAN,\n",
    "                                playlist_id STRING,\n",
    "                                completion_date TIMESTAMP\n",
    "                            )\n",
    "                            USING iceberg\n",
    "                            PARTITIONED BY (completion_date, bucket(16, match_id));\n",
    "                            \"\"\"\n",
    "sparkSession.sql(bucketedMatchesDDL)\n",
    "\n",
    "\n",
    "\n",
    "// Match Details\n",
    "sparkSession.sql(\"\"\"DROP TABLE IF EXISTS bootcamp.match_details_bucketed\"\"\")\n",
    "\n",
    "val bucketedMatchDetailsDDL = \"\"\"\n",
    "                                CREATE TABLE IF NOT EXISTS bootcamp.match_details_bucketed (\n",
    "                                    match_id STRING,\n",
    "                                    player_gamertag STRING,\n",
    "                                    player_total_kills INTEGER,\n",
    "                                    player_total_deaths INTEGER\n",
    "                                )\n",
    "                                USING iceberg\n",
    "                                PARTITIONED BY (bucket(16, match_id));\n",
    "                                \"\"\"\n",
    "sparkSession.sql(bucketedMatchDetailsDDL)\n",
    "\n",
    "\n",
    "\n",
    "// Medals Matches Players\n",
    "sparkSession.sql(\"\"\"DROP TABLE IF EXISTS bootcamp.medal_matches_players_bucketed\"\"\")\n",
    "\n",
    "val bucketedMedalMatchesPlayersDDL = \"\"\"\n",
    "                                        CREATE TABLE IF NOT EXISTS bootcamp.medal_matches_players_bucketed (\n",
    "                                            match_id STRING,\n",
    "                                            player_gamertag STRING,\n",
    "                                            medal_id INTEGER\n",
    "                                        )\n",
    "                                        USING iceberg\n",
    "                                        PARTITIONED BY (bucket(16, match_id));\n",
    "                                        \"\"\"\n",
    "sparkSession.sql(bucketedMedalMatchesPlayersDDL)"
   ]
  },
  {
   "cell_type": "code",
   "execution_count": null,
   "id": "4e042897-4d60-49ab-926f-ac47c1d1eb4a",
   "metadata": {},
   "outputs": [],
   "source": [
    "// Write data from the above datasets to the corresponding bucketed tables\n",
    "\n",
    "// Matches\n",
    "matches.select($\"match_id\", $\"is_team_game\", $\"playlist_id\", $\"completion_date\")\n",
    "        .write.mode(\"append\")\n",
    "        .partitionBy(\"completion_date\")\n",
    "        .bucketBy(16, \"match_id\")\n",
    "        .saveAsTable(\"bootcamp.matches_bucketed\")"
   ]
  },
  {
   "cell_type": "code",
   "execution_count": null,
   "id": "648935b9-001c-484b-b0a8-b15e389c142c",
   "metadata": {},
   "outputs": [],
   "source": [
    "// Match Details\n",
    "matchDetails.select($\"match_id\", $\"player_gamertag\", $\"player_total_kills\", $\"player_total_deaths\")\n",
    "            .write.mode(\"append\")\n",
    "            .bucketBy(16, \"match_id\")\n",
    "            .saveAsTable(\"bootcamp.match_details_bucketed\")"
   ]
  },
  {
   "cell_type": "code",
   "execution_count": null,
   "id": "dce1f2e2-bfcb-4fe9-a1e2-4a13240f0716",
   "metadata": {},
   "outputs": [],
   "source": [
    "// Medals Matches Players\n",
    "medalsMatchesPlayers.select($\"match_id\", $\"player_gamertag\", $\"medal_id\")\n",
    "                    .write.mode(\"append\")\n",
    "                    .bucketBy(16, \"match_id\")\n",
    "                    .saveAsTable(\"bootcamp.medal_matches_players_bucketed\")"
   ]
  },
  {
   "cell_type": "code",
   "execution_count": null,
   "id": "c4be2e25-fda7-416a-9251-1b45586f81dc",
   "metadata": {},
   "outputs": [],
   "source": [
    "// Bucket Join match_details, matches, and medal_matches_players\n",
    "\n",
    "//val bucketedMatchesMedals = \n",
    "sparkSession.sql(\"\"\"\n",
    "                SELECT mb.match_id, mb.playlist_id, md.completion_date,\n",
    "                        mdb.player_gamertag, mdb.player_total_kills, mdb.player_total_deaths,\n",
    "                        mmpb.medal_id\n",
    "                        \n",
    "                FROM bootcamp.matches_bucketed mb \n",
    "                            \n",
    "                JOIN bootcamp.match_details_bucketed mdb \n",
    "                ON mb.match_id = mdb.match_id\n",
    "                            \n",
    "                JOIN bootcamp.medalMatchesPlayersBucketed mmpb\n",
    "                ON mb.match_id = mmpb.match_id\n",
    "                AND mb.completion_date = DATE('2016-01-01') \n",
    "                \"\"\").explain()\n",
    "\n",
    "//bucketedMatchesMedals.createOrReplaceTempView(\"bucketed_matches_medals\")"
   ]
  },
  {
   "cell_type": "code",
   "execution_count": null,
   "id": "2949cfd1-a9c0-43a1-acaf-6f3869ddd237",
   "metadata": {},
   "outputs": [],
   "source": [
    "// Join match_details, matches, and medal_matches_players temporary views\n",
    "\n",
    "sparkSession.sql(\"\"\"\n",
    "                SELECT mb.match_id, mb.playlist_id, md.completion_date,\n",
    "                        mdb.player_gamertag, mdb.player_total_kills, mdb.player_total_deaths,\n",
    "                        mmpb.medal_id\n",
    "                \n",
    "                FROM matchesView mb \n",
    "                \n",
    "                JOIN matchDetailsView mdb \n",
    "                ON mb.match_id = mdb.match_id\n",
    "                \n",
    "                JOIN medalsMatchesPlayersView mmpb\n",
    "                ON mb.match_id = mmpb.match_id\n",
    "                \n",
    "                AND mb.completion_date = DATE('2016-01-01') \n",
    "                \"\"\").explain()"
   ]
  },
  {
   "cell_type": "code",
   "execution_count": null,
   "id": "db2d4e7f-fd71-43bb-a2d4-b2b8efe49028",
   "metadata": {},
   "outputs": [],
   "source": [
    "// Task 4: Aggregate the joined data frame to figure out questions like:\n",
    "// I. Which player averages the most kills per game?\n",
    "\n",
    "sparkSession.sql(\"\"\"\n",
    "                SELECT player_gametag, \n",
    "                        AVERAGE(player_total_kills) average_kills \n",
    "                \n",
    "                FROM bucketed_matches_medals\n",
    "                ORDER BY AVERAGE(player_total_kills) DESC\n",
    "                \"\"\")"
   ]
  },
  {
   "cell_type": "code",
   "execution_count": null,
   "id": "2a8f00e5-2c72-416d-ae6a-0e3c0fcfdbcb",
   "metadata": {},
   "outputs": [],
   "source": [
    "// %%sql\n",
    "// SELECT player_gametag, AVERAGE(player_total_kills) average_kills FROM bucketed_matches_medals ORDER BY AVERAGE(player_total_kills) DESC"
   ]
  },
  {
   "cell_type": "code",
   "execution_count": null,
   "id": "35b77069-aad8-4aa4-849d-770d7dac04c0",
   "metadata": {},
   "outputs": [],
   "source": [
    "// II. Which playlist gets played the most?\n",
    "        // III. Which map gets played the most?\n",
    "        // IV. Which map do players get the most Killing Spree medals on?"
   ]
  }
 ],
 "metadata": {
  "kernelspec": {
   "display_name": "spylon-kernel",
   "language": "scala",
   "name": "spylon-kernel"
  },
  "language_info": {
   "codemirror_mode": "text/x-scala",
   "file_extension": ".scala",
   "help_links": [
    {
     "text": "MetaKernel Magics",
     "url": "https://metakernel.readthedocs.io/en/latest/source/README.html"
    }
   ],
   "mimetype": "text/x-scala",
   "name": "scala",
   "pygments_lexer": "scala",
   "version": "0.4.1"
  }
 },
 "nbformat": 4,
 "nbformat_minor": 5
}
