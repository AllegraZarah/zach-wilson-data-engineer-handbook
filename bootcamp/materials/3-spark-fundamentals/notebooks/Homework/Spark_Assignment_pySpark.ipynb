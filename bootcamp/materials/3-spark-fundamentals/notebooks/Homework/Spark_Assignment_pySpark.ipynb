{
 "cells": [
  {
   "cell_type": "code",
   "execution_count": 23,
   "id": "8f1ecb6f-a918-4a67-9f56-9bd74a57c6f4",
   "metadata": {},
   "outputs": [],
   "source": [
    "from pyspark.sql import SparkSession\n",
    "from pyspark.sql.functions import broadcast, split, lit, col\n",
    "from pyspark.sql.types import StructType, StructField, StringType, BooleanType, IntegerType, DoubleType, LongType\n",
    "\n",
    "# Initialize a Spark Session\n",
    "spark = SparkSession.builder.appName(\"Assignment3\").getOrCreate()"
   ]
  },
  {
   "cell_type": "code",
   "execution_count": 2,
   "id": "a0dbc5bc-6431-4a32-91f0-5ce8a7ca2029",
   "metadata": {},
   "outputs": [],
   "source": [
    "# Task 1: Disable automatic broadcast join\n",
    "\n",
    "spark.conf.set(\"spark.sql.autoBroadcastJoinThreshold\", \"-1\")"
   ]
  },
  {
   "cell_type": "code",
   "execution_count": 4,
   "id": "0360ca0e-93ad-47f4-bb40-3512ffe6cd20",
   "metadata": {},
   "outputs": [],
   "source": [
    "# Task 2: Explicitly Broadcast Join medals and maps\n",
    "# Define required case classes that represent schemas for the data\n",
    "\n",
    "# Define schema for Matches\n",
    "matches_schema = StructType([\n",
    "    StructField(\"match_id\", StringType(), True),\n",
    "    StructField(\"mapid\", StringType(), True),\n",
    "    StructField(\"is_team_game\", BooleanType(), True),\n",
    "    StructField(\"playlist_id\", StringType(), True),\n",
    "    StructField(\"game_variant_id\", StringType(), True),\n",
    "    StructField(\"is_match_over\", BooleanType(), True),\n",
    "    StructField(\"completion_date\", StringType(), True),\n",
    "    StructField(\"match_duration\", StringType(), True),\n",
    "    StructField(\"game_mode\", StringType(), True),\n",
    "    StructField(\"map_variant_id\", StringType(), True)\n",
    "])\n",
    "\n",
    "# Define schema for MatchDetails\n",
    "match_details_schema = StructType([\n",
    "    StructField(\"match_id\", StringType(), True),\n",
    "    StructField(\"player_gamertag\", StringType(), True),\n",
    "    StructField(\"previous_spartan_rank\", IntegerType(), True),\n",
    "    StructField(\"spartan_rank\", IntegerType(), True),\n",
    "    StructField(\"previous_total_xp\", IntegerType(), True),\n",
    "    StructField(\"total_xp\", IntegerType(), True),\n",
    "    StructField(\"previous_csr_tier\", IntegerType(), True),\n",
    "    StructField(\"previous_csr_designation\", IntegerType(), True),\n",
    "    StructField(\"previous_csr\", IntegerType(), True),\n",
    "    StructField(\"previous_csr_percent_to_next_tier\", IntegerType(), True),\n",
    "    StructField(\"previous_csr_rank\", IntegerType(), True),\n",
    "    StructField(\"current_csr_tier\", IntegerType(), True),\n",
    "    StructField(\"current_csr_designation\", IntegerType(), True),\n",
    "    StructField(\"current_csr\", IntegerType(), True),\n",
    "    StructField(\"current_csr_percent_to_next_tier\", IntegerType(), True),\n",
    "    StructField(\"current_csr_rank\", IntegerType(), True),\n",
    "    StructField(\"player_rank_on_team\", IntegerType(), True),\n",
    "    StructField(\"player_finished\", BooleanType(), True),\n",
    "    StructField(\"player_average_life\", StringType(), True),\n",
    "    StructField(\"player_total_kills\", IntegerType(), True),\n",
    "    StructField(\"player_total_headshots\", IntegerType(), True),\n",
    "    StructField(\"player_total_weapon_damage\", DoubleType(), True),\n",
    "    StructField(\"player_total_shots_landed\", DoubleType(), True),\n",
    "    StructField(\"player_total_melee_kills\", DoubleType(), True),\n",
    "    StructField(\"player_total_melee_damage\", DoubleType(), True),\n",
    "    StructField(\"player_total_assassinations\", DoubleType(), True),\n",
    "    StructField(\"player_total_ground_pound_kills\", DoubleType(), True),\n",
    "    StructField(\"player_total_shoulder_bash_kills\", DoubleType(), True),\n",
    "    StructField(\"player_total_grenade_damage\", DoubleType(), True),\n",
    "    StructField(\"player_total_power_weapon_damage\", DoubleType(), True),\n",
    "    StructField(\"player_total_power_weapon_grabs\", DoubleType(), True),\n",
    "    StructField(\"player_total_deaths\", DoubleType(), True),\n",
    "    StructField(\"player_total_assists\", DoubleType(), True),\n",
    "    StructField(\"player_total_grenade_kills\", DoubleType(), True),\n",
    "    StructField(\"did_win\", DoubleType(), True),\n",
    "    StructField(\"team_id\", DoubleType(), True)\n",
    "])\n",
    "\n",
    "# Define schema for Maps\n",
    "maps_schema = StructType([\n",
    "    StructField(\"mapid\", StringType(), True),\n",
    "    StructField(\"name\", StringType(), True),\n",
    "    StructField(\"description\", StringType(), True)\n",
    "])\n",
    "\n",
    "# Define schema for Medals\n",
    "medals_schema = StructType([\n",
    "    StructField(\"medal_id\", LongType(), True),\n",
    "    StructField(\"sprite_uri\", StringType(), True),\n",
    "    StructField(\"sprite_left\", IntegerType(), True),\n",
    "    StructField(\"sprite_top\", IntegerType(), True),\n",
    "    StructField(\"sprite_sheet_width\", IntegerType(), True),\n",
    "    StructField(\"sprite_sheet_height\", IntegerType(), True),\n",
    "    StructField(\"sprite_width\", IntegerType(), True),\n",
    "    StructField(\"sprite_height\", IntegerType(), True),\n",
    "    StructField(\"classification\", StringType(), True),\n",
    "    StructField(\"description\", StringType(), True),\n",
    "    StructField(\"name\", StringType(), True),\n",
    "    StructField(\"difficulty\", IntegerType(), True)\n",
    "])\n",
    "\n",
    "# Define schema for MedalsMatchesPlayers\n",
    "medals_matches_players_schema = StructType([\n",
    "    StructField(\"match_id\", StringType(), True),\n",
    "    StructField(\"player_gamertag\", StringType(), True),\n",
    "    StructField(\"medal_id\", LongType(), True),\n",
    "    StructField(\"count\", IntegerType(), True)\n",
    "])"
   ]
  },
  {
   "cell_type": "code",
   "execution_count": 5,
   "id": "39fd5bb4-4aa9-4e15-b146-139f00a4b84e",
   "metadata": {},
   "outputs": [
    {
     "name": "stderr",
     "output_type": "stream",
     "text": [
      "                                                                                \r"
     ]
    },
    {
     "name": "stdout",
     "output_type": "stream",
     "text": [
      "+--------------------+--------------------+------------+--------------------+--------------------+-------------+-------------------+--------------+---------+--------------+\n",
      "|            match_id|               mapid|is_team_game|         playlist_id|     game_variant_id|is_match_over|    completion_date|match_duration|game_mode|map_variant_id|\n",
      "+--------------------+--------------------+------------+--------------------+--------------------+-------------+-------------------+--------------+---------+--------------+\n",
      "|11de1a94-8d07-416...|c7edbf0f-f206-11e...|        true|f72e0ef0-7c4a-430...|1e473914-46e4-408...|         true|2016-02-22 00:00:00|          NULL|     NULL|          NULL|\n",
      "|d3643e71-3e51-43e...|cb914b9e-f206-11e...|       false|d0766624-dbd7-453...|257a305e-4dd3-41f...|         true|2016-02-14 00:00:00|          NULL|     NULL|          NULL|\n",
      "+--------------------+--------------------+------------+--------------------+--------------------+-------------+-------------------+--------------+---------+--------------+\n",
      "only showing top 2 rows\n",
      "\n"
     ]
    }
   ],
   "source": [
    "# Read all required .csv files into DataFrames\n",
    "matches = spark.read.option(\"header\", \"true\") \\\n",
    "                    .option(\"inferSchema\", \"true\") \\\n",
    "                    .csv(\"/home/iceberg/data/matches.csv\")\n",
    "\n",
    "# Show the first 2 rows\n",
    "matches.show(2)"
   ]
  },
  {
   "cell_type": "code",
   "execution_count": 6,
   "id": "01185dde-a718-427c-89b9-09116ac98f1a",
   "metadata": {},
   "outputs": [
    {
     "name": "stderr",
     "output_type": "stream",
     "text": [
      "25/01/06 11:27:41 WARN SparkStringUtils: Truncated the string representation of a plan since it was too large. This behavior can be adjusted by setting 'spark.sql.debug.maxToStringFields'.\n"
     ]
    },
    {
     "name": "stdout",
     "output_type": "stream",
     "text": [
      "+--------------------+---------------+---------------------+------------+-----------------+--------+-----------------+------------------------+------------+---------------------------------+-----------------+----------------+-----------------------+-----------+--------------------------------+----------------+-------------------+---------------+-------------------+------------------+----------------------+--------------------------+-------------------------+------------------------+-------------------------+---------------------------+-------------------------------+--------------------------------+---------------------------+--------------------------------+-------------------------------+-------------------+--------------------+--------------------------+-------+-------+\n",
      "|            match_id|player_gamertag|previous_spartan_rank|spartan_rank|previous_total_xp|total_xp|previous_csr_tier|previous_csr_designation|previous_csr|previous_csr_percent_to_next_tier|previous_csr_rank|current_csr_tier|current_csr_designation|current_csr|current_csr_percent_to_next_tier|current_csr_rank|player_rank_on_team|player_finished|player_average_life|player_total_kills|player_total_headshots|player_total_weapon_damage|player_total_shots_landed|player_total_melee_kills|player_total_melee_damage|player_total_assassinations|player_total_ground_pound_kills|player_total_shoulder_bash_kills|player_total_grenade_damage|player_total_power_weapon_damage|player_total_power_weapon_grabs|player_total_deaths|player_total_assists|player_total_grenade_kills|did_win|team_id|\n",
      "+--------------------+---------------+---------------------+------------+-----------------+--------+-----------------+------------------------+------------+---------------------------------+-----------------+----------------+-----------------------+-----------+--------------------------------+----------------+-------------------+---------------+-------------------+------------------+----------------------+--------------------------+-------------------------+------------------------+-------------------------+---------------------------+-------------------------------+--------------------------------+---------------------------+--------------------------------+-------------------------------+-------------------+--------------------+--------------------------+-------+-------+\n",
      "|71d79b23-4143-435...|      taterbase|                    5|           5|            12537|   13383|                1|                       3|           0|                               98|             NULL|               2|                      3|          0|                              26|            NULL|                  4|          false|        PT14.81149S|                 6|                     4|                     255.0|                       28|                       0|                      0.0|                          0|                              0|                               0|                        0.0|                             0.0|                              0|                 13|                   1|                         0|      1|      1|\n",
      "|71d79b23-4143-435...| SuPeRSaYaInG0D|                   18|          18|           131943|  132557|                2|                       3|           0|                                2|             NULL|               1|                      3|          0|                              76|            NULL|                  7|          false|      PT11.2990845S|                 7|                     3|        350.58792304992676|                       49|                       1|                     45.0|                          0|                              0|                               0|                        0.0|                             0.0|                              0|                 18|                   2|                         0|      0|      0|\n",
      "+--------------------+---------------+---------------------+------------+-----------------+--------+-----------------+------------------------+------------+---------------------------------+-----------------+----------------+-----------------------+-----------+--------------------------------+----------------+-------------------+---------------+-------------------+------------------+----------------------+--------------------------+-------------------------+------------------------+-------------------------+---------------------------+-------------------------------+--------------------------------+---------------------------+--------------------------------+-------------------------------+-------------------+--------------------+--------------------------+-------+-------+\n",
      "only showing top 2 rows\n",
      "\n"
     ]
    }
   ],
   "source": [
    "match_details = spark.read.option(\"header\", \"true\") \\\n",
    "                          .option(\"inferSchema\", \"true\") \\\n",
    "                          .csv(\"/home/iceberg/data/match_details.csv\")\n",
    "\n",
    "# Show the first 2 rows\n",
    "match_details.show(2)"
   ]
  },
  {
   "cell_type": "code",
   "execution_count": 7,
   "id": "414e9439-c26d-4506-9768-cd0e5f873226",
   "metadata": {},
   "outputs": [
    {
     "name": "stdout",
     "output_type": "stream",
     "text": [
      "+--------------------+--------------+--------------------+\n",
      "|               mapid|          name|         description|\n",
      "+--------------------+--------------+--------------------+\n",
      "|c93d708f-f206-11e...|         Urban|Andesia was the c...|\n",
      "|cb251c51-f206-11e...|Raid on Apex 7|This unbroken rin...|\n",
      "+--------------------+--------------+--------------------+\n",
      "only showing top 2 rows\n",
      "\n"
     ]
    }
   ],
   "source": [
    "maps = spark.read.option(\"header\", \"true\") \\\n",
    "                 .option(\"inferSchema\", \"true\") \\\n",
    "                 .csv(\"/home/iceberg/data/maps.csv\")\n",
    "\n",
    "# Show the first 2 rows\n",
    "maps.show(2)"
   ]
  },
  {
   "cell_type": "code",
   "execution_count": 8,
   "id": "b1da3319-03b1-4b85-a3c2-ee818eba5ffe",
   "metadata": {},
   "outputs": [
    {
     "name": "stdout",
     "output_type": "stream",
     "text": [
      "+----------+----------+-----------+----------+------------------+-------------------+------------+-------------+--------------+-----------+----+----------+\n",
      "|  medal_id|sprite_uri|sprite_left|sprite_top|sprite_sheet_width|sprite_sheet_height|sprite_width|sprite_height|classification|description|name|difficulty|\n",
      "+----------+----------+-----------+----------+------------------+-------------------+------------+-------------+--------------+-----------+----+----------+\n",
      "|2315448068|      NULL|       NULL|      NULL|              NULL|               NULL|        NULL|         NULL|          NULL|       NULL|NULL|      NULL|\n",
      "|3565441934|      NULL|       NULL|      NULL|              NULL|               NULL|        NULL|         NULL|          NULL|       NULL|NULL|      NULL|\n",
      "+----------+----------+-----------+----------+------------------+-------------------+------------+-------------+--------------+-----------+----+----------+\n",
      "only showing top 2 rows\n",
      "\n"
     ]
    }
   ],
   "source": [
    "medals = spark.read.option(\"header\", \"true\") \\\n",
    "                   .option(\"inferSchema\", \"true\") \\\n",
    "                   .csv(\"/home/iceberg/data/medals.csv\")\n",
    "\n",
    "# Show the first 2 rows\n",
    "medals.show(2)"
   ]
  },
  {
   "cell_type": "code",
   "execution_count": 9,
   "id": "920774a2-e5a6-472c-84be-0404d195aae2",
   "metadata": {},
   "outputs": [
    {
     "name": "stderr",
     "output_type": "stream",
     "text": [
      "                                                                                \r"
     ]
    },
    {
     "name": "stdout",
     "output_type": "stream",
     "text": [
      "+--------------------+---------------+----------+-----+\n",
      "|            match_id|player_gamertag|  medal_id|count|\n",
      "+--------------------+---------------+----------+-----+\n",
      "|009fdac5-e15c-47c...|       EcZachly|3261908037|    7|\n",
      "|009fdac5-e15c-47c...|       EcZachly| 824733727|    2|\n",
      "+--------------------+---------------+----------+-----+\n",
      "only showing top 2 rows\n",
      "\n"
     ]
    }
   ],
   "source": [
    "medals_matches_players = spark.read.option(\"header\", \"true\") \\\n",
    "                                   .option(\"inferSchema\", \"true\") \\\n",
    "                                   .csv(\"/home/iceberg/data/medals_matches_players.csv\")\n",
    "\n",
    "# Show the first 2 rows\n",
    "medals_matches_players.show(2)"
   ]
  },
  {
   "cell_type": "code",
   "execution_count": 10,
   "id": "a6c66758-6cea-4cd9-ae7a-5394889b3000",
   "metadata": {},
   "outputs": [],
   "source": [
    "# Create Temporary Views for the required DataFrames\n",
    "\n",
    "matches.createOrReplaceTempView(\"matchesView\")\n",
    "\n",
    "match_details.createOrReplaceTempView(\"matchDetailsView\")\n",
    "\n",
    "maps.createOrReplaceTempView(\"mapsView\")\n",
    "\n",
    "medals_matches_players.createOrReplaceTempView(\"medalsMatchesPlayersView\")\n",
    "\n",
    "medals.createOrReplaceTempView(\"medalsView\")"
   ]
  },
  {
   "cell_type": "code",
   "execution_count": 11,
   "id": "02c792ec-86bb-4d30-9578-9c641b532f86",
   "metadata": {},
   "outputs": [
    {
     "name": "stderr",
     "output_type": "stream",
     "text": [
      "[Stage 25:>                                                         (0 + 1) / 1]\r"
     ]
    },
    {
     "name": "stdout",
     "output_type": "stream",
     "text": [
      "+---------+----------+--------------------+--------------------+---------------------+\n",
      "| medal_id|medal_name|            match_id|               mapid|player_gamertag_array|\n",
      "+---------+----------+--------------------+--------------------+---------------------+\n",
      "|121048710|   Rampage|073a5745-339b-4f7...|c74c9d0f-f206-11e...|              [Lanqe]|\n",
      "|121048710|   Rampage|143a653a-27f6-4d2...|c74c9d0f-f206-11e...|     [False EnvisioN]|\n",
      "|121048710|   Rampage|259119e2-e79c-443...|c7805740-f206-11e...|     [Lvl 61 Scyther]|\n",
      "|121048710|   Rampage|3453a66d-6a56-434...|cebd854f-f206-11e...|    [BiscuitAnanas31]|\n",
      "|121048710|   Rampage|35e30ec5-7e71-43c...|c7b7baf0-f206-11e...|        [XCornholeoX]|\n",
      "+---------+----------+--------------------+--------------------+---------------------+\n",
      "only showing top 5 rows\n",
      "\n"
     ]
    },
    {
     "name": "stderr",
     "output_type": "stream",
     "text": [
      "                                                                                \r"
     ]
    }
   ],
   "source": [
    "# Create the long table (medals) using SQL\n",
    "\n",
    "matches_medal_maps_agg = spark.sql(\"\"\"\n",
    "    SELECT mmp.medal_id,\n",
    "           me.name AS medal_name,\n",
    "           mmp.match_id,\n",
    "           ma.mapid,\n",
    "           COLLECT_LIST(DISTINCT mmp.player_gamertag) AS player_gamertag_array\n",
    "    FROM medalsMatchesPlayersView mmp\n",
    "    JOIN matchesView ma ON mmp.match_id = ma.match_id\n",
    "    JOIN medalsView me ON mmp.medal_id = me.medal_id\n",
    "    GROUP BY mmp.medal_id, me.name, mmp.match_id, ma.mapid\n",
    "\"\"\")\n",
    "\n",
    "# Show the first 5 rows\n",
    "matches_medal_maps_agg.show(5)"
   ]
  },
  {
   "cell_type": "code",
   "execution_count": 12,
   "id": "207da342-1b30-450d-a8d3-76c6127a89a1",
   "metadata": {
    "scrolled": true
   },
   "outputs": [
    {
     "name": "stderr",
     "output_type": "stream",
     "text": [
      "[Stage 32:===================================================>     (9 + 1) / 10]\r"
     ]
    },
    {
     "name": "stdout",
     "output_type": "stream",
     "text": [
      "+---------+----------+--------------------+--------------------+---------------------+--------+--------------------+\n",
      "| medal_id|medal_name|            match_id|               mapid|player_gamertag_array|    name|         description|\n",
      "+---------+----------+--------------------+--------------------+---------------------+--------+--------------------+\n",
      "|121048710|   Rampage|073a5745-339b-4f7...|c74c9d0f-f206-11e...|              [Lanqe]|  Alpine|These vistas are ...|\n",
      "|121048710|   Rampage|143a653a-27f6-4d2...|c74c9d0f-f206-11e...|     [False EnvisioN]|  Alpine|These vistas are ...|\n",
      "|121048710|   Rampage|259119e2-e79c-443...|c7805740-f206-11e...|     [Lvl 61 Scyther]| Glacier|Each of Halo's mi...|\n",
      "|121048710|   Rampage|3453a66d-6a56-434...|cebd854f-f206-11e...|    [BiscuitAnanas31]|Coliseum|Forerunner Warrio...|\n",
      "|121048710|   Rampage|35e30ec5-7e71-43c...|c7b7baf0-f206-11e...|        [XCornholeoX]|Parallax|The Orion Arm of ...|\n",
      "+---------+----------+--------------------+--------------------+---------------------+--------+--------------------+\n",
      "only showing top 5 rows\n",
      "\n"
     ]
    },
    {
     "name": "stderr",
     "output_type": "stream",
     "text": [
      "                                                                                \r"
     ]
    }
   ],
   "source": [
    "# Explicitly broadcast join Medals & Maps\n",
    "\n",
    "medals_maps = matches_medal_maps_agg.alias(\"m\") \\\n",
    "    .join(broadcast(maps).alias(\"mp\"), matches_medal_maps_agg[\"mapid\"] == maps[\"mapid\"]) \\\n",
    "    .select(\"m.*\", \"mp.name\", \"mp.description\")\n",
    "\n",
    "# Show the first 5 rows\n",
    "medals_maps.show(5)"
   ]
  },
  {
   "cell_type": "code",
   "execution_count": 13,
   "id": "16f77ade-9bba-4647-8562-fef30b64776b",
   "metadata": {},
   "outputs": [
    {
     "data": {
      "text/plain": [
       "DataFrame[]"
      ]
     },
     "execution_count": 13,
     "metadata": {},
     "output_type": "execute_result"
    }
   ],
   "source": [
    "# Task 3: Bucket join match_details, matches, and medal_matches_players on match_id with 16 buckets\n",
    "\n",
    "# Create DDL for bucketed tables\n",
    "\n",
    "# Matches\n",
    "spark.sql(\"\"\"DROP TABLE IF EXISTS bootcamp.matches_bucketed\"\"\")\n",
    "\n",
    "bucketed_matches_ddl = \"\"\"\n",
    "                        CREATE TABLE IF NOT EXISTS bootcamp.matches_bucketed (\n",
    "                            match_id STRING,\n",
    "                            is_team_game BOOLEAN,\n",
    "                            playlist_id STRING,\n",
    "                            mapid STRING\n",
    "                        )\n",
    "                        USING iceberg\n",
    "                        PARTITIONED BY (bucket(16, match_id))\n",
    "                        \"\"\"\n",
    "spark.sql(bucketed_matches_ddl)\n",
    "\n",
    "\n",
    "\n",
    "# Match Details\n",
    "spark.sql(\"\"\"DROP TABLE IF EXISTS bootcamp.match_details_bucketed\"\"\")\n",
    "\n",
    "bucketed_match_details_ddl = \"\"\"\n",
    "                                CREATE TABLE IF NOT EXISTS bootcamp.match_details_bucketed (\n",
    "                                    match_id STRING,\n",
    "                                    player_gamertag STRING,\n",
    "                                    player_total_kills INTEGER,\n",
    "                                    player_total_deaths INTEGER\n",
    "                                )\n",
    "                                USING iceberg\n",
    "                                PARTITIONED BY (bucket(16, match_id))\n",
    "                                \"\"\"\n",
    "spark.sql(bucketed_match_details_ddl)\n",
    "\n",
    "\n",
    "\n",
    "# Medals Matches Players\n",
    "spark.sql(\"\"\"DROP TABLE IF EXISTS bootcamp.medal_matches_players_bucketed\"\"\")\n",
    "\n",
    "bucketed_medal_matches_players_ddl = \"\"\"\n",
    "                                        CREATE TABLE IF NOT EXISTS bootcamp.medal_matches_players_bucketed (\n",
    "                                            match_id STRING,\n",
    "                                            player_gamertag STRING,\n",
    "                                            medal_id BIGINT\n",
    "                                        )\n",
    "                                        USING iceberg\n",
    "                                        PARTITIONED BY (bucket(16, match_id))\n",
    "                                        \"\"\"\n",
    "spark.sql(bucketed_medal_matches_players_ddl)"
   ]
  },
  {
   "cell_type": "code",
   "execution_count": 14,
   "id": "4e042897-4d60-49ab-926f-ac47c1d1eb4a",
   "metadata": {},
   "outputs": [
    {
     "name": "stderr",
     "output_type": "stream",
     "text": [
      "                                                                                \r"
     ]
    }
   ],
   "source": [
    "# Write data from the above DataFrames to the corresponding bucketed tables\n",
    "\n",
    "# Matches\n",
    "matches.select(\"match_id\", \"is_team_game\", \"playlist_id\", \"mapid\") \\\n",
    "       .write.mode(\"append\") \\\n",
    "       .bucketBy(16, \"match_id\") \\\n",
    "       .saveAsTable(\"bootcamp.matches_bucketed\")\n",
    "\n",
    "# Match Details\n",
    "match_details.select(\"match_id\", \"player_gamertag\", \"player_total_kills\", \"player_total_deaths\") \\\n",
    "             .write.mode(\"append\") \\\n",
    "             .bucketBy(16, \"match_id\") \\\n",
    "             .saveAsTable(\"bootcamp.match_details_bucketed\")\n",
    "\n",
    "# Medals Matches Players\n",
    "medals_matches_players.select(\"match_id\", \"player_gamertag\", \"medal_id\") \\\n",
    "                      .write.mode(\"append\") \\\n",
    "                      .bucketBy(16, \"match_id\") \\\n",
    "                      .saveAsTable(\"bootcamp.medal_matches_players_bucketed\")"
   ]
  },
  {
   "cell_type": "code",
   "execution_count": 17,
   "id": "c4be2e25-fda7-416a-9251-1b45586f81dc",
   "metadata": {},
   "outputs": [
    {
     "name": "stderr",
     "output_type": "stream",
     "text": [
      "[Stage 48:=========>        (2 + 2) / 4][Stage 49:>                 (0 + 4) / 4]\r"
     ]
    },
    {
     "name": "stdout",
     "output_type": "stream",
     "text": [
      "+--------------------+--------------------+--------------------+---------------+------------------+-------------------+----------+\n",
      "|            match_id|         playlist_id|               mapid|player_gamertag|player_total_kills|player_total_deaths|  medal_id|\n",
      "+--------------------+--------------------+--------------------+---------------+------------------+-------------------+----------+\n",
      "|00169217-cca6-4b4...|2323b76a-db98-4e0...|cc040aa1-f206-11e...|  King Terror V|                14|                  7|3261908037|\n",
      "|00169217-cca6-4b4...|2323b76a-db98-4e0...|cc040aa1-f206-11e...|  King Terror V|                14|                  7|3001183151|\n",
      "|00169217-cca6-4b4...|2323b76a-db98-4e0...|cc040aa1-f206-11e...|  King Terror V|                14|                  7| 824733727|\n",
      "|00169217-cca6-4b4...|2323b76a-db98-4e0...|cc040aa1-f206-11e...|  King Terror V|                14|                  7|2078758684|\n",
      "|00169217-cca6-4b4...|2323b76a-db98-4e0...|cc040aa1-f206-11e...|  King Terror V|                14|                  7|2430242797|\n",
      "+--------------------+--------------------+--------------------+---------------+------------------+-------------------+----------+\n",
      "only showing top 5 rows\n",
      "\n"
     ]
    },
    {
     "name": "stderr",
     "output_type": "stream",
     "text": [
      "                                                                                \r"
     ]
    }
   ],
   "source": [
    "# Bucket Join match_details, matches, and medal_matches_players\n",
    "\n",
    "bucketed_matches_medals = spark.sql(\"\"\"\n",
    "                                    SELECT mb.match_id,\n",
    "                                           mb.playlist_id,\n",
    "                                           mb.mapid,\n",
    "                                           mdb.player_gamertag,\n",
    "                                           mdb.player_total_kills,\n",
    "                                           mdb.player_total_deaths,\n",
    "                                           mmpb.medal_id\n",
    "                                    FROM bootcamp.matches_bucketed mb\n",
    "                                    JOIN bootcamp.match_details_bucketed mdb ON mb.match_id = mdb.match_id\n",
    "                                    JOIN bootcamp.medal_matches_players_bucketed mmpb ON mb.match_id = mmpb.match_id\n",
    "                                    WHERE mdb.player_gamertag IS NOT NULL\n",
    "                                \"\"\")\n",
    "\n",
    "# Show the first 5 rows\n",
    "bucketed_matches_medals.show(5)"
   ]
  },
  {
   "cell_type": "code",
   "execution_count": 18,
   "id": "db2d4e7f-fd71-43bb-a2d4-b2b8efe49028",
   "metadata": {},
   "outputs": [],
   "source": [
    "# Task 4: Aggregate the joined data frame to figure out questions like:\n",
    "\n",
    "# Save the bucketed table as a temporary view\n",
    "\n",
    "bucketed_matches_medals.createOrReplaceTempView(\"bucketed_matches_medals\")"
   ]
  },
  {
   "cell_type": "code",
   "execution_count": 19,
   "id": "60451248-9581-4443-ae17-b0075ef32b16",
   "metadata": {},
   "outputs": [
    {
     "name": "stderr",
     "output_type": "stream",
     "text": [
      "[Stage 60:=============================>                            (3 + 3) / 6]\r"
     ]
    },
    {
     "name": "stdout",
     "output_type": "stream",
     "text": [
      "+---------------+-------------+\n",
      "|player_gamertag|average_kills|\n",
      "+---------------+-------------+\n",
      "|   gimpinator14|        109.0|\n",
      "+---------------+-------------+\n",
      "only showing top 1 row\n",
      "\n"
     ]
    },
    {
     "name": "stderr",
     "output_type": "stream",
     "text": [
      "                                                                                \r"
     ]
    }
   ],
   "source": [
    "# I. Which player averages the most kills per game?\n",
    "\n",
    "players_avg_kills = spark.sql(\"\"\"\n",
    "                                SELECT player_gamertag, \n",
    "                                       AVG(player_total_kills) AS average_kills \n",
    "                                FROM bucketed_matches_medals\n",
    "                                GROUP BY player_gamertag\n",
    "                                ORDER BY average_kills DESC\n",
    "                            \"\"\")\n",
    "\n",
    "players_avg_kills.show(1)"
   ]
  },
  {
   "cell_type": "code",
   "execution_count": 20,
   "id": "6fff7c66-b804-4474-9396-baa1016cdb0f",
   "metadata": {},
   "outputs": [
    {
     "name": "stderr",
     "output_type": "stream",
     "text": [
      "                                                                                \r"
     ]
    },
    {
     "name": "stdout",
     "output_type": "stream",
     "text": [
      "+--------------------+--------------+\n",
      "|         playlist_id|playlist_plays|\n",
      "+--------------------+--------------+\n",
      "|f72e0ef0-7c4a-430...|       1565529|\n",
      "+--------------------+--------------+\n",
      "only showing top 1 row\n",
      "\n"
     ]
    }
   ],
   "source": [
    "# II. Which playlist gets played the most?\n",
    "\n",
    "playlist_most_played = spark.sql(\"\"\"\n",
    "                                    SELECT playlist_id, \n",
    "                                           COUNT(match_id) AS playlist_plays \n",
    "                                    FROM bucketed_matches_medals\n",
    "                                    GROUP BY playlist_id\n",
    "                                    ORDER BY playlist_plays DESC\n",
    "                                \"\"\")\n",
    "\n",
    "playlist_most_played.show(1)"
   ]
  },
  {
   "cell_type": "code",
   "execution_count": 21,
   "id": "ffd30103-9857-4e6d-97f8-bacca8e221e7",
   "metadata": {},
   "outputs": [
    {
     "name": "stderr",
     "output_type": "stream",
     "text": [
      "25/01/06 11:38:41 WARN RowBasedKeyValueBatch: Calling spill() on RowBasedKeyValueBatch. Will not spill but return 0.\n",
      "25/01/06 11:38:41 WARN RowBasedKeyValueBatch: Calling spill() on RowBasedKeyValueBatch. Will not spill but return 0.\n",
      "25/01/06 11:38:41 WARN RowBasedKeyValueBatch: Calling spill() on RowBasedKeyValueBatch. Will not spill but return 0.\n",
      "25/01/06 11:38:41 WARN RowBasedKeyValueBatch: Calling spill() on RowBasedKeyValueBatch. Will not spill but return 0.\n",
      "25/01/06 11:38:42 WARN RowBasedKeyValueBatch: Calling spill() on RowBasedKeyValueBatch. Will not spill but return 0.\n",
      "25/01/06 11:38:42 WARN RowBasedKeyValueBatch: Calling spill() on RowBasedKeyValueBatch. Will not spill but return 0.\n",
      "25/01/06 11:38:43 WARN RowBasedKeyValueBatch: Calling spill() on RowBasedKeyValueBatch. Will not spill but return 0.\n",
      "25/01/06 11:38:43 WARN RowBasedKeyValueBatch: Calling spill() on RowBasedKeyValueBatch. Will not spill but return 0.\n",
      "[Stage 91:===========================================>              (3 + 1) / 4]\r"
     ]
    },
    {
     "name": "stdout",
     "output_type": "stream",
     "text": [
      "+------+---------+\n",
      "|   map|map_plays|\n",
      "+------+---------+\n",
      "|Alpine|  1445545|\n",
      "+------+---------+\n",
      "only showing top 1 row\n",
      "\n"
     ]
    },
    {
     "name": "stderr",
     "output_type": "stream",
     "text": [
      "                                                                                \r"
     ]
    }
   ],
   "source": [
    "# III. Which map gets played the most?\n",
    "\n",
    "map_most_played = spark.sql(\"\"\"\n",
    "                            SELECT map.name AS map, \n",
    "                                   COUNT(match.match_id) AS map_plays \n",
    "                            FROM bucketed_matches_medals match\n",
    "                            JOIN mapsView map ON match.mapid = map.mapid\n",
    "                            GROUP BY map.name\n",
    "                            ORDER BY map_plays DESC\n",
    "                        \"\"\")\n",
    "\n",
    "map_most_played.show(1)"
   ]
  },
  {
   "cell_type": "code",
   "execution_count": 28,
   "id": "ac8f2970-9b34-4199-a585-8e0a670256ec",
   "metadata": {},
   "outputs": [
    {
     "name": "stderr",
     "output_type": "stream",
     "text": [
      "25/01/06 11:56:54 WARN RowBasedKeyValueBatch: Calling spill() on RowBasedKeyValueBatch. Will not spill but return 0.\n",
      "25/01/06 11:56:54 WARN RowBasedKeyValueBatch: Calling spill() on RowBasedKeyValueBatch. Will not spill but return 0.\n",
      "[Stage 228:============================>                            (1 + 1) / 2]\r"
     ]
    },
    {
     "name": "stdout",
     "output_type": "stream",
     "text": [
      "+------+--------------------+\n",
      "|   map|killing_spree_medals|\n",
      "+------+--------------------+\n",
      "|Alpine|               56908|\n",
      "+------+--------------------+\n",
      "only showing top 1 row\n",
      "\n"
     ]
    },
    {
     "name": "stderr",
     "output_type": "stream",
     "text": [
      "                                                                                \r"
     ]
    }
   ],
   "source": [
    "# IV. Which map do players get the most Killing Spree medals on?\n",
    "\n",
    "map_most_killing_spree_medals = spark.sql(\"\"\"\n",
    "                                        SELECT map.name AS map, \n",
    "                                               COUNT(match.medal_id) AS killing_spree_medals \n",
    "                                        FROM bucketed_matches_medals match\n",
    "                                        JOIN mapsView map ON match.mapid = map.mapid\n",
    "                                        JOIN medalsView med ON match.medal_id = med.medal_id\n",
    "\n",
    "                                        WHERE med.name = 'Killing Spree'\n",
    "                                        \n",
    "                                        GROUP BY map.name\n",
    "                                        ORDER BY killing_spree_medals DESC\n",
    "                                    \"\"\")\n",
    "\n",
    "map_most_killing_spree_medals.show(1)"
   ]
  },
  {
   "cell_type": "code",
   "execution_count": 24,
   "id": "851bfcc4-52c8-496c-b882-5b7597abc9ec",
   "metadata": {},
   "outputs": [
    {
     "name": "stderr",
     "output_type": "stream",
     "text": [
      "[Stage 126:======================================>                  (2 + 1) / 3]\r"
     ]
    },
    {
     "name": "stdout",
     "output_type": "stream",
     "text": [
      "+--------------------+--------------+\n",
      "|         playlist_id|playlist_plays|\n",
      "+--------------------+--------------+\n",
      "|f72e0ef0-7c4a-430...|       1565529|\n",
      "+--------------------+--------------+\n",
      "only showing top 1 row\n",
      "\n"
     ]
    },
    {
     "name": "stderr",
     "output_type": "stream",
     "text": [
      "                                                                                \r"
     ]
    }
   ],
   "source": [
    "# Task 5: With the aggregated data set, try different .sortWithinPartitions to see which has the smallest data size (hint: playlists and maps are both very low cardinality)\n",
    "\n",
    "# I. playlistMostPlayed\n",
    "\n",
    "sort_partition_playlist_most_played = playlist_most_played.repartition(col(\"playlist_id\")) \\\n",
    "                                                          .sortWithinPartitions(col(\"playlist_plays\").desc())\n",
    "\n",
    "sort_partition_playlist_most_played.show(1)"
   ]
  },
  {
   "cell_type": "code",
   "execution_count": 25,
   "id": "cc39b5bd-9eb7-4135-867d-bcaab840b5f2",
   "metadata": {},
   "outputs": [
    {
     "name": "stderr",
     "output_type": "stream",
     "text": [
      "25/01/06 11:41:47 WARN RowBasedKeyValueBatch: Calling spill() on RowBasedKeyValueBatch. Will not spill but return 0.\n",
      "25/01/06 11:41:47 WARN RowBasedKeyValueBatch: Calling spill() on RowBasedKeyValueBatch. Will not spill but return 0.\n",
      "25/01/06 11:41:47 WARN RowBasedKeyValueBatch: Calling spill() on RowBasedKeyValueBatch. Will not spill but return 0.\n",
      "25/01/06 11:41:47 WARN RowBasedKeyValueBatch: Calling spill() on RowBasedKeyValueBatch. Will not spill but return 0.\n",
      "25/01/06 11:41:48 WARN RowBasedKeyValueBatch: Calling spill() on RowBasedKeyValueBatch. Will not spill but return 0.\n",
      "25/01/06 11:41:48 WARN RowBasedKeyValueBatch: Calling spill() on RowBasedKeyValueBatch. Will not spill but return 0.\n",
      "25/01/06 11:41:48 WARN RowBasedKeyValueBatch: Calling spill() on RowBasedKeyValueBatch. Will not spill but return 0.\n",
      "[Stage 145:==========================================>              (3 + 1) / 4]\r"
     ]
    },
    {
     "name": "stdout",
     "output_type": "stream",
     "text": [
      "+------+---------+\n",
      "|   map|map_plays|\n",
      "+------+---------+\n",
      "|Alpine|  1445545|\n",
      "+------+---------+\n",
      "only showing top 1 row\n",
      "\n"
     ]
    },
    {
     "name": "stderr",
     "output_type": "stream",
     "text": [
      "                                                                                \r"
     ]
    }
   ],
   "source": [
    "# II. mapMostPlayed\n",
    "\n",
    "sort_partition_map_most_played = map_most_played.repartition(col(\"map\")) \\\n",
    "                                                .sortWithinPartitions(col(\"map_plays\").desc())\n",
    "\n",
    "sort_partition_map_most_played.show(1)"
   ]
  },
  {
   "cell_type": "code",
   "execution_count": 30,
   "id": "338fbbc0-5bd0-41de-8798-470d998b5484",
   "metadata": {},
   "outputs": [
    {
     "name": "stderr",
     "output_type": "stream",
     "text": [
      "25/01/06 11:57:44 WARN RowBasedKeyValueBatch: Calling spill() on RowBasedKeyValueBatch. Will not spill but return 0.\n",
      "25/01/06 11:57:44 WARN RowBasedKeyValueBatch: Calling spill() on RowBasedKeyValueBatch. Will not spill but return 0.\n",
      "[Stage 260:============================>                            (1 + 1) / 2]\r"
     ]
    },
    {
     "name": "stdout",
     "output_type": "stream",
     "text": [
      "+------+--------------------+\n",
      "|   map|killing_spree_medals|\n",
      "+------+--------------------+\n",
      "|Alpine|               56908|\n",
      "+------+--------------------+\n",
      "only showing top 1 row\n",
      "\n"
     ]
    },
    {
     "name": "stderr",
     "output_type": "stream",
     "text": [
      "                                                                                \r"
     ]
    }
   ],
   "source": [
    "# III. mapMostKillingMedals\n",
    "\n",
    "sort_partition_map_most_killing_spree_medals = map_most_killing_spree_medals.repartition(col(\"map\")) \\\n",
    "                                                                .sortWithinPartitions(col(\"killing_spree_medals\").desc())\n",
    "\n",
    "sort_partition_map_most_killing_spree_medals.show(1)"
   ]
  },
  {
   "cell_type": "code",
   "execution_count": null,
   "id": "788e8688-4498-49a7-8091-3f79415596db",
   "metadata": {},
   "outputs": [],
   "source": []
  }
 ],
 "metadata": {
  "kernelspec": {
   "display_name": "Python 3 (ipykernel)",
   "language": "python",
   "name": "python3"
  },
  "language_info": {
   "codemirror_mode": {
    "name": "ipython",
    "version": 3
   },
   "file_extension": ".py",
   "mimetype": "text/x-python",
   "name": "python",
   "nbconvert_exporter": "python",
   "pygments_lexer": "ipython3",
   "version": "3.9.18"
  }
 },
 "nbformat": 4,
 "nbformat_minor": 5
}
